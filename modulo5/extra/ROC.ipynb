{
  "nbformat": 4,
  "nbformat_minor": 0,
  "metadata": {
    "colab": {
      "name": "ROC.ipynb",
      "provenance": [],
      "authorship_tag": "ABX9TyOKAll65hCnVdvfX6CuHsdX",
      "include_colab_link": true
    },
    "kernelspec": {
      "name": "python3",
      "display_name": "Python 3"
    },
    "language_info": {
      "name": "python"
    }
  },
  "cells": [
    {
      "cell_type": "markdown",
      "metadata": {
        "id": "view-in-github",
        "colab_type": "text"
      },
      "source": [
        "<a href=\"https://colab.research.google.com/github/HenriqueCCdA/bootCampAluraDataScience/blob/master/modulo5/extra/ROC.ipynb\" target=\"_parent\"><img src=\"https://colab.research.google.com/assets/colab-badge.svg\" alt=\"Open In Colab\"/></a>"
      ]
    },
    {
      "cell_type": "code",
      "metadata": {
        "id": "bGFXH5PAXmaW"
      },
      "source": [
        "import numpy as np\n",
        "from sklearn import metrics\n",
        "import pandas as pd"
      ],
      "execution_count": 2,
      "outputs": []
    },
    {
      "cell_type": "code",
      "metadata": {
        "id": "JQYnYv-Iza6e",
        "outputId": "f370e928-dbba-4b65-b0fb-26fe08136c31",
        "colab": {
          "base_uri": "https://localhost:8080/",
          "height": 205
        }
      },
      "source": [
        "path = \"https://raw.githubusercontent.com/HenriqueCCdA/bootCampAluraDataScience/master/modulo5/extra/y_y_prob.csv\"\n",
        "\n",
        "dados = pd.read_csv(path, index_col=\"Unnamed: 0\")\n",
        "dados.head()"
      ],
      "execution_count": 39,
      "outputs": [
        {
          "output_type": "execute_result",
          "data": {
            "text/html": [
              "<div>\n",
              "<style scoped>\n",
              "    .dataframe tbody tr th:only-of-type {\n",
              "        vertical-align: middle;\n",
              "    }\n",
              "\n",
              "    .dataframe tbody tr th {\n",
              "        vertical-align: top;\n",
              "    }\n",
              "\n",
              "    .dataframe thead th {\n",
              "        text-align: right;\n",
              "    }\n",
              "</style>\n",
              "<table border=\"1\" class=\"dataframe\">\n",
              "  <thead>\n",
              "    <tr style=\"text-align: right;\">\n",
              "      <th></th>\n",
              "      <th>prob_y</th>\n",
              "      <th>y</th>\n",
              "    </tr>\n",
              "  </thead>\n",
              "  <tbody>\n",
              "    <tr>\n",
              "      <th>109</th>\n",
              "      <td>0.198213</td>\n",
              "      <td>1</td>\n",
              "    </tr>\n",
              "    <tr>\n",
              "      <th>263</th>\n",
              "      <td>0.113318</td>\n",
              "      <td>0</td>\n",
              "    </tr>\n",
              "    <tr>\n",
              "      <th>339</th>\n",
              "      <td>0.198521</td>\n",
              "      <td>0</td>\n",
              "    </tr>\n",
              "    <tr>\n",
              "      <th>106</th>\n",
              "      <td>0.054586</td>\n",
              "      <td>0</td>\n",
              "    </tr>\n",
              "    <tr>\n",
              "      <th>143</th>\n",
              "      <td>0.386078</td>\n",
              "      <td>1</td>\n",
              "    </tr>\n",
              "  </tbody>\n",
              "</table>\n",
              "</div>"
            ],
            "text/plain": [
              "       prob_y  y\n",
              "109  0.198213  1\n",
              "263  0.113318  0\n",
              "339  0.198521  0\n",
              "106  0.054586  0\n",
              "143  0.386078  1"
            ]
          },
          "metadata": {
            "tags": []
          },
          "execution_count": 39
        }
      ]
    },
    {
      "cell_type": "code",
      "metadata": {
        "id": "yG28f9T1zhYh"
      },
      "source": [
        "y      = dados['y']  \n",
        "y_prob = dados['prob_y']"
      ],
      "execution_count": 40,
      "outputs": []
    },
    {
      "cell_type": "code",
      "metadata": {
        "id": "2JiLycxqCWy5"
      },
      "source": [
        "def calulo_matriz_de_confusao(y, y_pred):\n",
        "  '''\n",
        "  ------------------------------------------------------------------------------\n",
        "  Calculo da matriz de confusao\n",
        "  ------------------------------------------------------------------------------\n",
        "  @param y_pred - valores previstos\n",
        "  @param y      - valores reais\n",
        "  ------------------------------------------------------------------------------\n",
        "  @return retorna a tupla (tn, tp, fn, fp):\n",
        "          \n",
        "          tn - verdadeiro negativo\n",
        "          tp - verdadeiro positivo\n",
        "          tn - falso negativo\n",
        "          tn - falso positivo\n",
        "  -----------------------------------------------------------------------------\n",
        "  PS: 0 - negativo\n",
        "      1 - positivo\n",
        "  ------------------------------------------------------------------------------\n",
        "  '''\n",
        "\n",
        "  tn, tp, fn, fp= 0, 0, 0, 0\n",
        "  for pyi, yi in zip(y_pred, y):\n",
        "    # verdadeiro negativo\n",
        "    if pyi == yi and pyi == 0:\n",
        "      tn+=1\n",
        "    # verdadeiro positivo\n",
        "    elif pyi == yi and pyi == 1:\n",
        "      tp+=1\n",
        "    # falso positivo\n",
        "    elif pyi != yi and pyi == 1:\n",
        "      fp+=1\n",
        "    # falso positivo\n",
        "    elif pyi != yi and pyi == 0:\n",
        "      fn+=1\n",
        "\n",
        "  return tn, tp, fn, fp  \n",
        "\n",
        "def classificao_para_um_limiar(y, y_prob, threshold):\n",
        "  '''\n",
        "  ------------------------------------------------------------------------------\n",
        "  Calcula as taxas de falso positivo (fpr) e verdadeiro positivo (tpr) para um \n",
        "  determinado limiar\n",
        "  ------------------------------------------------------------------------------\n",
        "  @param y         - valores reais\n",
        "  @param y_prob    - probabilidadas previstas\n",
        "  @param threshold - limiar para o possitivo\n",
        "  ------------------------------------------------------------------------------\n",
        "  @return retorna a tupla (fpr, tpr):          \n",
        "          fpr - taxas de falso positivo\n",
        "          tpr - taxas de verdadeiro positivo\n",
        "  ------------------------------------------------------------------------------\n",
        "  '''\n",
        "  def tpr(tp, fn):\n",
        "    return tp/(tp+fn)\n",
        "\n",
        "  def fpr(fp, tn):\n",
        "    return fp/(fp+tn)\n",
        "\n",
        "  y_previsto = (y_prob>=threshold).astype(int)\n",
        "\n",
        "  tn, tp, fn, fp = calulo_matriz_de_confusao(y , y_previsto)\n",
        "\n",
        "  return fpr(fp,tn), tpr(tp,fn) \n",
        "\n",
        "def curva_roc(y, y_prob):\n",
        "  '''\n",
        "  ------------------------------------------------------------------------------\n",
        "  Calcula a curva roc\n",
        "  ------------------------------------------------------------------------------\n",
        "  @param y           - valores reais\n",
        "  @param y_prob      - probabilidadas previstas\n",
        "  ------------------------------------------------------------------------------\n",
        "  @return retorna a tupla (fprs, tprs, limiares):          \n",
        "          fprs - taxas de falso positivo (np.array)\n",
        "          tprs - taxas de verdadeiro positivo (np.array)\n",
        "          limiares - limiares utilizados\n",
        "  ------------------------------------------------------------------------------\n",
        "  '''\n",
        "  fprs = [] \n",
        "  tprs = []\n",
        "\n",
        "  limiares = np.concatenate((y_prob, y_prob[0]/2.0, 1.5), axis=None)\n",
        "  limiares = np.sort(limiares)\n",
        "\n",
        "  for t in limiares:\n",
        "    xi, yi = classificao_para_um_limiar(y, y_prob, t)\n",
        "    fprs.append(xi)\n",
        "    tprs.append(yi)\n",
        "\n",
        "  return np.array(fprs), np.array(tprs), limiares"
      ],
      "execution_count": 41,
      "outputs": []
    },
    {
      "cell_type": "code",
      "metadata": {
        "id": "XnOqNWzfzgEy"
      },
      "source": [
        "fpr, tpr, thresholds = metrics.roc_curve(y, y_prob, drop_intermediate = False)"
      ],
      "execution_count": 42,
      "outputs": []
    },
    {
      "cell_type": "code",
      "metadata": {
        "id": "4wGABAkRCkTH"
      },
      "source": [
        "meu_fprs, meu_tprs, _ = curva_roc(y, y_prob)"
      ],
      "execution_count": 43,
      "outputs": []
    },
    {
      "cell_type": "code",
      "metadata": {
        "colab": {
          "base_uri": "https://localhost:8080/",
          "height": 610
        },
        "id": "guKQZqkuJglj",
        "outputId": "821fc195-b788-4eab-b032-3d3a9843327e"
      },
      "source": [
        "import matplotlib.pyplot as plt\n",
        "import matplotlib as mpl\n",
        "\n",
        "mpl.rcParams[\"figure.figsize\"] = (15, 10)\n",
        "\n",
        "\n",
        "plt.plot(fpr, tpr, label = \"curva do sklearn\", ls='--', color = 'black')\n",
        "plt.plot(meu_fprs, meu_tprs, label = \"minha curva\", color = 'red')\n",
        "\n",
        "plt.legend()"
      ],
      "execution_count": 44,
      "outputs": [
        {
          "output_type": "execute_result",
          "data": {
            "text/plain": [
              "<matplotlib.legend.Legend at 0x7f2a4171b610>"
            ]
          },
          "metadata": {
            "tags": []
          },
          "execution_count": 44
        },
        {
          "output_type": "display_data",
          "data": {
            "image/png": "[encoded data removed]",
            "text/plain": [
              "<Figure size 1080x720 with 1 Axes>"
            ]
          },
          "metadata": {
            "tags": [],
            "needs_background": "light"
          }
        }
      ]
    }
  ]
}