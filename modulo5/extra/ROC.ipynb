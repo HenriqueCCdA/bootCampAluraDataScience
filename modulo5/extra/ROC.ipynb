{
  "nbformat": 4,
  "nbformat_minor": 0,
  "metadata": {
    "colab": {
      "name": "ROC.ipynb",
      "provenance": [],
      "authorship_tag": "ABX9TyOF5RiAxGmPomuKUaTKfuL8",
      "include_colab_link": true
    },
    "kernelspec": {
      "name": "python3",
      "display_name": "Python 3"
    },
    "language_info": {
      "name": "python"
    }
  },
  "cells": [
    {
      "cell_type": "markdown",
      "metadata": {
        "id": "view-in-github",
        "colab_type": "text"
      },
      "source": [
        "<a href=\"https://colab.research.google.com/github/HenriqueCCdA/bootCampAluraDataScience/blob/master/modulo5/extra/ROC.ipynb\" target=\"_parent\"><img src=\"https://colab.research.google.com/assets/colab-badge.svg\" alt=\"Open In Colab\"/></a>"
      ]
    },
    {
      "cell_type": "code",
      "metadata": {
        "id": "bGFXH5PAXmaW"
      },
      "source": [
        "import numpy as np\n",
        "from sklearn import metrics\n",
        "y = np.array([0, 0, 1, 1, 1])\n",
        "prob = np.array([0.1, 0.4, 0.35, 0.8, 0.2])\n",
        "fpr, tpr, thresholds = metrics.roc_curve(y, prob, drop_intermediate = False)"
      ],
      "execution_count": 12,
      "outputs": []
    },
    {
      "cell_type": "code",
      "metadata": {
        "id": "2JiLycxqCWy5"
      },
      "source": [
        "def calulo_matriz_de_confusao(y, y_pred):\n",
        "  '''\n",
        "  ------------------------------------------------------------------------------\n",
        "  Calculo da matriz de confusao\n",
        "  ------------------------------------------------------------------------------\n",
        "  @param y_pred - valores previstos\n",
        "  @param y      - valores reais\n",
        "  ------------------------------------------------------------------------------\n",
        "  @return retorna a tupla (tn, tp, fn, fp):\n",
        "          \n",
        "          tn - verdadeiro negativo\n",
        "          tp - verdadeiro positivo\n",
        "          tn - falso negativo\n",
        "          tn - falso positivo\n",
        "  -----------------------------------------------------------------------------\n",
        "  PS: 0 - negativo\n",
        "      1 - positivo\n",
        "  ------------------------------------------------------------------------------\n",
        "  '''\n",
        "\n",
        "  tn, tp, fn, fp= 0, 0, 0, 0\n",
        "  for pyi, yi in zip(y_pred, y):\n",
        "    # verdadeiro negativo\n",
        "    if pyi == yi and pyi == 0:\n",
        "      tn+=1\n",
        "    # verdadeiro positivo\n",
        "    elif pyi == yi and pyi == 1:\n",
        "      tp+=1\n",
        "    # falso positivo\n",
        "    elif pyi != yi and pyi == 1:\n",
        "      fp+=1\n",
        "    # falso positivo\n",
        "    elif pyi != yi and pyi == 0:\n",
        "      fn+=1\n",
        "\n",
        "  return tn, tp, fn, fp  \n",
        "\n",
        "def classificao_para_um_limiar(y, y_prob, threshold):\n",
        "  '''\n",
        "  ------------------------------------------------------------------------------\n",
        "  Calcula as taxas de falso positivo (fpr) e verdadeiro positivo (tpr) para um \n",
        "  determinado limiar\n",
        "  ------------------------------------------------------------------------------\n",
        "  @param y         - valores reais\n",
        "  @param y_prob    - probabilidadas previstas\n",
        "  @param threshold - limiar para o possitivo\n",
        "  ------------------------------------------------------------------------------\n",
        "  @return retorna a tupla (fpr, tpr):          \n",
        "          fpr - taxas de falso positivo\n",
        "          tpr - taxas de verdadeiro positivo\n",
        "  ------------------------------------------------------------------------------\n",
        "  '''\n",
        "  def tpr(tp, fn):\n",
        "    return tp/(tp+fn)\n",
        "\n",
        "  def fpr(fp, tn):\n",
        "    return fp/(fp+tn)\n",
        "\n",
        "  y_previsto = (y_prob>=threshold).astype(int)\n",
        "\n",
        "  tn, tp, fn, fp = calulo_matriz_de_confusao(y , y_previsto)\n",
        "\n",
        "  return fpr(fp,tn), tpr(tp,fn) \n",
        "\n",
        "def curva_roc(y, y_prob):\n",
        "  '''\n",
        "  ------------------------------------------------------------------------------\n",
        "  Calcula a curva roc\n",
        "  ------------------------------------------------------------------------------\n",
        "  @param y           - valores reais\n",
        "  @param y_prob      - probabilidadas previstas\n",
        "  ------------------------------------------------------------------------------\n",
        "  @return retorna a tupla (fprs, tprs, limiares):          \n",
        "          fprs - taxas de falso positivo (np.array)\n",
        "          tprs - taxas de verdadeiro positivo (np.array)\n",
        "          limiares - limiares utilizados\n",
        "  ------------------------------------------------------------------------------\n",
        "  '''\n",
        "  fprs = [] \n",
        "  tprs = []\n",
        "\n",
        "  limiares = np.concatenate((prob, prob[0]/2.0, prob[-1] + 1.5), axis=None)\n",
        "  limiares = np.sort(limiares)\n",
        "\n",
        "  for t in limiares:\n",
        "    xi, yi = classificao_para_um_limiar(y, y_prob, t)\n",
        "    fprs.append(xi)\n",
        "    tprs.append(yi)\n",
        "\n",
        "  return np.array(fprs), np.array(tprs), limiares"
      ],
      "execution_count": 45,
      "outputs": []
    },
    {
      "cell_type": "code",
      "metadata": {
        "id": "4wGABAkRCkTH"
      },
      "source": [
        "meu_fprs, meu_tprs, _ = curva_roc(y, prob)"
      ],
      "execution_count": 46,
      "outputs": []
    },
    {
      "cell_type": "code",
      "metadata": {
        "colab": {
          "base_uri": "https://localhost:8080/",
          "height": 283
        },
        "id": "guKQZqkuJglj",
        "outputId": "9bdb4b43-b731-4a9e-fceb-38200d7b6a3b"
      },
      "source": [
        "import matplotlib.pyplot as plt\n",
        "\n",
        "plt.plot(fpr, tpr)\n",
        "plt.plot(meu_fprs, meu_tprs)"
      ],
      "execution_count": 47,
      "outputs": [
        {
          "output_type": "execute_result",
          "data": {
            "text/plain": [
              "[<matplotlib.lines.Line2D at 0x7f82f4724f50>]"
            ]
          },
          "metadata": {
            "tags": []
          },
          "execution_count": 47
        },
        {
          "output_type": "display_data",
          "data": {
            "image/png": "[encoded data removed]",
            "text/plain": [
              "<Figure size 432x288 with 1 Axes>"
            ]
          },
          "metadata": {
            "tags": [],
            "needs_background": "light"
          }
        }
      ]
    }
  ]
}