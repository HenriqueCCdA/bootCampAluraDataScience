{
  "nbformat": 4,
  "nbformat_minor": 0,
  "metadata": {
    "colab": {
      "name": "Aula1_desafio.ipynb",
      "provenance": [],
      "toc_visible": true,
      "authorship_tag": "ABX9TyN1FKqmY/FRqY+EJZiG2NxI",
      "include_colab_link": true
    },
    "kernelspec": {
      "name": "python3",
      "display_name": "Python 3"
    },
    "language_info": {
      "name": "python"
    }
  },
  "cells": [
    {
      "cell_type": "markdown",
      "metadata": {
        "id": "view-in-github",
        "colab_type": "text"
      },
      "source": [
        "<a href=\"https://colab.research.google.com/github/HenriqueCCdA/bootCampAluraDataScience/blob/master/modulo5/desafios/Aula1_desafio.ipynb\" target=\"_parent\"><img src=\"https://colab.research.google.com/assets/colab-badge.svg\" alt=\"Open In Colab\"/></a>"
      ]
    },
    {
      "cell_type": "markdown",
      "metadata": {
        "id": "tn0S9xqitTTL"
      },
      "source": [
        "# 1) Pre-Analise"
      ]
    },
    {
      "cell_type": "markdown",
      "metadata": {
        "id": "NW0N4hVatbj3"
      },
      "source": [
        "## 1.1) Download da minhas funções"
      ]
    },
    {
      "cell_type": "code",
      "metadata": {
        "colab": {
          "base_uri": "https://localhost:8080/"
        },
        "id": "UPVUSk4RtJh3",
        "outputId": "40c6d59f-7e87-43f4-cb8c-6ce98c602942"
      },
      "source": [
        "!wget https://raw.githubusercontent.com/HenriqueCCdA/bootCampAluraDataScience/master/modulo5/src/limpeza_dos_dados.py"
      ],
      "execution_count": 1,
      "outputs": [
        {
          "output_type": "stream",
          "text": [
            "--2021-07-24 23:36:12--  https://raw.githubusercontent.com/HenriqueCCdA/bootCampAluraDataScience/master/modulo5/src/limpeza_dos_dados.py\n",
            "Resolving raw.githubusercontent.com (raw.githubusercontent.com)... 185.199.108.133, 185.199.109.133, 185.199.110.133, ...\n",
            "Connecting to raw.githubusercontent.com (raw.githubusercontent.com)|185.199.108.133|:443... connected.\n",
            "HTTP request sent, awaiting response... 200 OK\n",
            "Length: 1103 (1.1K) [text/plain]\n",
            "Saving to: ‘limpeza_dos_dados.py’\n",
            "\n",
            "\rlimpeza_dos_dados.p   0%[                    ]       0  --.-KB/s               \rlimpeza_dos_dados.p 100%[===================>]   1.08K  --.-KB/s    in 0s      \n",
            "\n",
            "2021-07-24 23:36:12 (32.3 MB/s) - ‘limpeza_dos_dados.py’ saved [1103/1103]\n",
            "\n"
          ],
          "name": "stdout"
        }
      ]
    },
    {
      "cell_type": "markdown",
      "metadata": {
        "id": "FxE-_FATtkGn"
      },
      "source": [
        "## 1.2) importando os modulos"
      ]
    },
    {
      "cell_type": "code",
      "metadata": {
        "id": "m0lW0YVUtYL1"
      },
      "source": [
        "import pandas as pd\n",
        "import numpy as np\n",
        "import limpeza_dos_dados as cl\n",
        "from sklearn.model_selection import train_test_split\n",
        "from sklearn.metrics import accuracy_score"
      ],
      "execution_count": 14,
      "outputs": []
    },
    {
      "cell_type": "code",
      "metadata": {
        "colab": {
          "base_uri": "https://localhost:8080/",
          "height": 321
        },
        "id": "3cwVBo-rtsaP",
        "outputId": "fd557f49-30c5-493d-e745-096815c21e04"
      },
      "source": [
        "dados = pd.read_excel(\"https://github.com/HenriqueCCdA/bootCampAluraDataScience/blob/master/modulo5/dados/Kaggle_Sirio_Libanes_ICU_Prediction.xlsx?raw=true\")\n",
        "dados_limpos = cl.limpando_dados(dados)\n",
        "dados_limpos.head()"
      ],
      "execution_count": 3,
      "outputs": [
        {
          "output_type": "execute_result",
          "data": {
            "text/html": [
              "<div>\n",
              "<style scoped>\n",
              "    .dataframe tbody tr th:only-of-type {\n",
              "        vertical-align: middle;\n",
              "    }\n",
              "\n",
              "    .dataframe tbody tr th {\n",
              "        vertical-align: top;\n",
              "    }\n",
              "\n",
              "    .dataframe thead th {\n",
              "        text-align: right;\n",
              "    }\n",
              "</style>\n",
              "<table border=\"1\" class=\"dataframe\">\n",
              "  <thead>\n",
              "    <tr style=\"text-align: right;\">\n",
              "      <th></th>\n",
              "      <th></th>\n",
              "      <th>PATIENT_VISIT_IDENTIFIER</th>\n",
              "      <th>AGE_ABOVE65</th>\n",
              "      <th>AGE_PERCENTIL</th>\n",
              "      <th>GENDER</th>\n",
              "      <th>DISEASE GROUPING 1</th>\n",
              "      <th>DISEASE GROUPING 2</th>\n",
              "      <th>DISEASE GROUPING 3</th>\n",
              "      <th>DISEASE GROUPING 4</th>\n",
              "      <th>DISEASE GROUPING 5</th>\n",
              "      <th>DISEASE GROUPING 6</th>\n",
              "      <th>HTN</th>\n",
              "      <th>IMMUNOCOMPROMISED</th>\n",
              "      <th>OTHER</th>\n",
              "      <th>ALBUMIN_MEDIAN</th>\n",
              "      <th>ALBUMIN_MEAN</th>\n",
              "      <th>ALBUMIN_MIN</th>\n",
              "      <th>ALBUMIN_MAX</th>\n",
              "      <th>ALBUMIN_DIFF</th>\n",
              "      <th>BE_ARTERIAL_MEDIAN</th>\n",
              "      <th>BE_ARTERIAL_MEAN</th>\n",
              "      <th>BE_ARTERIAL_MIN</th>\n",
              "      <th>BE_ARTERIAL_MAX</th>\n",
              "      <th>BE_ARTERIAL_DIFF</th>\n",
              "      <th>BE_VENOUS_MEDIAN</th>\n",
              "      <th>BE_VENOUS_MEAN</th>\n",
              "      <th>BE_VENOUS_MIN</th>\n",
              "      <th>BE_VENOUS_MAX</th>\n",
              "      <th>BE_VENOUS_DIFF</th>\n",
              "      <th>BIC_ARTERIAL_MEDIAN</th>\n",
              "      <th>BIC_ARTERIAL_MEAN</th>\n",
              "      <th>BIC_ARTERIAL_MIN</th>\n",
              "      <th>BIC_ARTERIAL_MAX</th>\n",
              "      <th>BIC_ARTERIAL_DIFF</th>\n",
              "      <th>BIC_VENOUS_MEDIAN</th>\n",
              "      <th>BIC_VENOUS_MEAN</th>\n",
              "      <th>BIC_VENOUS_MIN</th>\n",
              "      <th>BIC_VENOUS_MAX</th>\n",
              "      <th>BIC_VENOUS_DIFF</th>\n",
              "      <th>BILLIRUBIN_MEDIAN</th>\n",
              "      <th>BILLIRUBIN_MEAN</th>\n",
              "      <th>...</th>\n",
              "      <th>DIMER_MAX</th>\n",
              "      <th>DIMER_DIFF</th>\n",
              "      <th>BLOODPRESSURE_DIASTOLIC_MEAN</th>\n",
              "      <th>BLOODPRESSURE_SISTOLIC_MEAN</th>\n",
              "      <th>HEART_RATE_MEAN</th>\n",
              "      <th>RESPIRATORY_RATE_MEAN</th>\n",
              "      <th>TEMPERATURE_MEAN</th>\n",
              "      <th>OXYGEN_SATURATION_MEAN</th>\n",
              "      <th>BLOODPRESSURE_DIASTOLIC_MEDIAN</th>\n",
              "      <th>BLOODPRESSURE_SISTOLIC_MEDIAN</th>\n",
              "      <th>HEART_RATE_MEDIAN</th>\n",
              "      <th>RESPIRATORY_RATE_MEDIAN</th>\n",
              "      <th>TEMPERATURE_MEDIAN</th>\n",
              "      <th>OXYGEN_SATURATION_MEDIAN</th>\n",
              "      <th>BLOODPRESSURE_DIASTOLIC_MIN</th>\n",
              "      <th>BLOODPRESSURE_SISTOLIC_MIN</th>\n",
              "      <th>HEART_RATE_MIN</th>\n",
              "      <th>RESPIRATORY_RATE_MIN</th>\n",
              "      <th>TEMPERATURE_MIN</th>\n",
              "      <th>OXYGEN_SATURATION_MIN</th>\n",
              "      <th>BLOODPRESSURE_DIASTOLIC_MAX</th>\n",
              "      <th>BLOODPRESSURE_SISTOLIC_MAX</th>\n",
              "      <th>HEART_RATE_MAX</th>\n",
              "      <th>RESPIRATORY_RATE_MAX</th>\n",
              "      <th>TEMPERATURE_MAX</th>\n",
              "      <th>OXYGEN_SATURATION_MAX</th>\n",
              "      <th>BLOODPRESSURE_DIASTOLIC_DIFF</th>\n",
              "      <th>BLOODPRESSURE_SISTOLIC_DIFF</th>\n",
              "      <th>HEART_RATE_DIFF</th>\n",
              "      <th>RESPIRATORY_RATE_DIFF</th>\n",
              "      <th>TEMPERATURE_DIFF</th>\n",
              "      <th>OXYGEN_SATURATION_DIFF</th>\n",
              "      <th>BLOODPRESSURE_DIASTOLIC_DIFF_REL</th>\n",
              "      <th>BLOODPRESSURE_SISTOLIC_DIFF_REL</th>\n",
              "      <th>HEART_RATE_DIFF_REL</th>\n",
              "      <th>RESPIRATORY_RATE_DIFF_REL</th>\n",
              "      <th>TEMPERATURE_DIFF_REL</th>\n",
              "      <th>OXYGEN_SATURATION_DIFF_REL</th>\n",
              "      <th>WINDOW</th>\n",
              "      <th>ICU</th>\n",
              "    </tr>\n",
              "    <tr>\n",
              "      <th>PATIENT_VISIT_IDENTIFIER</th>\n",
              "      <th></th>\n",
              "      <th></th>\n",
              "      <th></th>\n",
              "      <th></th>\n",
              "      <th></th>\n",
              "      <th></th>\n",
              "      <th></th>\n",
              "      <th></th>\n",
              "      <th></th>\n",
              "      <th></th>\n",
              "      <th></th>\n",
              "      <th></th>\n",
              "      <th></th>\n",
              "      <th></th>\n",
              "      <th></th>\n",
              "      <th></th>\n",
              "      <th></th>\n",
              "      <th></th>\n",
              "      <th></th>\n",
              "      <th></th>\n",
              "      <th></th>\n",
              "      <th></th>\n",
              "      <th></th>\n",
              "      <th></th>\n",
              "      <th></th>\n",
              "      <th></th>\n",
              "      <th></th>\n",
              "      <th></th>\n",
              "      <th></th>\n",
              "      <th></th>\n",
              "      <th></th>\n",
              "      <th></th>\n",
              "      <th></th>\n",
              "      <th></th>\n",
              "      <th></th>\n",
              "      <th></th>\n",
              "      <th></th>\n",
              "      <th></th>\n",
              "      <th></th>\n",
              "      <th></th>\n",
              "      <th></th>\n",
              "      <th></th>\n",
              "      <th></th>\n",
              "      <th></th>\n",
              "      <th></th>\n",
              "      <th></th>\n",
              "      <th></th>\n",
              "      <th></th>\n",
              "      <th></th>\n",
              "      <th></th>\n",
              "      <th></th>\n",
              "      <th></th>\n",
              "      <th></th>\n",
              "      <th></th>\n",
              "      <th></th>\n",
              "      <th></th>\n",
              "      <th></th>\n",
              "      <th></th>\n",
              "      <th></th>\n",
              "      <th></th>\n",
              "      <th></th>\n",
              "      <th></th>\n",
              "      <th></th>\n",
              "      <th></th>\n",
              "      <th></th>\n",
              "      <th></th>\n",
              "      <th></th>\n",
              "      <th></th>\n",
              "      <th></th>\n",
              "      <th></th>\n",
              "      <th></th>\n",
              "      <th></th>\n",
              "      <th></th>\n",
              "      <th></th>\n",
              "      <th></th>\n",
              "      <th></th>\n",
              "      <th></th>\n",
              "      <th></th>\n",
              "      <th></th>\n",
              "      <th></th>\n",
              "      <th></th>\n",
              "      <th></th>\n",
              "    </tr>\n",
              "  </thead>\n",
              "  <tbody>\n",
              "    <tr>\n",
              "      <th>0</th>\n",
              "      <th>0</th>\n",
              "      <td>0</td>\n",
              "      <td>1</td>\n",
              "      <td>60th</td>\n",
              "      <td>0</td>\n",
              "      <td>0.0</td>\n",
              "      <td>0.0</td>\n",
              "      <td>0.0</td>\n",
              "      <td>0.0</td>\n",
              "      <td>1.0</td>\n",
              "      <td>1.0</td>\n",
              "      <td>0.0</td>\n",
              "      <td>0.0</td>\n",
              "      <td>1.0</td>\n",
              "      <td>0.605263</td>\n",
              "      <td>0.605263</td>\n",
              "      <td>0.605263</td>\n",
              "      <td>0.605263</td>\n",
              "      <td>-1.0</td>\n",
              "      <td>-1.0</td>\n",
              "      <td>-1.0</td>\n",
              "      <td>-1.0</td>\n",
              "      <td>-1.0</td>\n",
              "      <td>-1.0</td>\n",
              "      <td>-1.0</td>\n",
              "      <td>-1.0</td>\n",
              "      <td>-1.0</td>\n",
              "      <td>-1.0</td>\n",
              "      <td>-1.0</td>\n",
              "      <td>-0.317073</td>\n",
              "      <td>-0.317073</td>\n",
              "      <td>-0.317073</td>\n",
              "      <td>-0.317073</td>\n",
              "      <td>-1.0</td>\n",
              "      <td>-0.317073</td>\n",
              "      <td>-0.317073</td>\n",
              "      <td>-0.317073</td>\n",
              "      <td>-0.317073</td>\n",
              "      <td>-1.0</td>\n",
              "      <td>-0.938950</td>\n",
              "      <td>-0.938950</td>\n",
              "      <td>...</td>\n",
              "      <td>-0.994912</td>\n",
              "      <td>-1.0</td>\n",
              "      <td>0.086420</td>\n",
              "      <td>-0.230769</td>\n",
              "      <td>-0.283019</td>\n",
              "      <td>-0.593220</td>\n",
              "      <td>-0.285714</td>\n",
              "      <td>0.736842</td>\n",
              "      <td>0.086420</td>\n",
              "      <td>-0.230769</td>\n",
              "      <td>-0.283019</td>\n",
              "      <td>-0.586207</td>\n",
              "      <td>-0.285714</td>\n",
              "      <td>0.736842</td>\n",
              "      <td>0.237113</td>\n",
              "      <td>0.0000</td>\n",
              "      <td>-0.162393</td>\n",
              "      <td>-0.500000</td>\n",
              "      <td>0.208791</td>\n",
              "      <td>0.898990</td>\n",
              "      <td>-0.247863</td>\n",
              "      <td>-0.459459</td>\n",
              "      <td>-0.432836</td>\n",
              "      <td>-0.636364</td>\n",
              "      <td>-0.420290</td>\n",
              "      <td>0.736842</td>\n",
              "      <td>-1.000000</td>\n",
              "      <td>-1.000000</td>\n",
              "      <td>-1.000000</td>\n",
              "      <td>-1.000000</td>\n",
              "      <td>-1.000000</td>\n",
              "      <td>-1.000000</td>\n",
              "      <td>-1.000000</td>\n",
              "      <td>-1.000000</td>\n",
              "      <td>-1.000000</td>\n",
              "      <td>-1.000000</td>\n",
              "      <td>-1.000000</td>\n",
              "      <td>-1.000000</td>\n",
              "      <td>0-2</td>\n",
              "      <td>1</td>\n",
              "    </tr>\n",
              "    <tr>\n",
              "      <th>2</th>\n",
              "      <th>10</th>\n",
              "      <td>2</td>\n",
              "      <td>0</td>\n",
              "      <td>10th</td>\n",
              "      <td>0</td>\n",
              "      <td>0.0</td>\n",
              "      <td>0.0</td>\n",
              "      <td>0.0</td>\n",
              "      <td>0.0</td>\n",
              "      <td>0.0</td>\n",
              "      <td>0.0</td>\n",
              "      <td>0.0</td>\n",
              "      <td>0.0</td>\n",
              "      <td>1.0</td>\n",
              "      <td>0.605263</td>\n",
              "      <td>0.605263</td>\n",
              "      <td>0.605263</td>\n",
              "      <td>0.605263</td>\n",
              "      <td>-1.0</td>\n",
              "      <td>-1.0</td>\n",
              "      <td>-1.0</td>\n",
              "      <td>-1.0</td>\n",
              "      <td>-1.0</td>\n",
              "      <td>-1.0</td>\n",
              "      <td>-1.0</td>\n",
              "      <td>-1.0</td>\n",
              "      <td>-1.0</td>\n",
              "      <td>-1.0</td>\n",
              "      <td>-1.0</td>\n",
              "      <td>-0.317073</td>\n",
              "      <td>-0.317073</td>\n",
              "      <td>-0.317073</td>\n",
              "      <td>-0.317073</td>\n",
              "      <td>-1.0</td>\n",
              "      <td>-0.317073</td>\n",
              "      <td>-0.317073</td>\n",
              "      <td>-0.317073</td>\n",
              "      <td>-0.317073</td>\n",
              "      <td>-1.0</td>\n",
              "      <td>-0.938950</td>\n",
              "      <td>-0.938950</td>\n",
              "      <td>...</td>\n",
              "      <td>-0.978029</td>\n",
              "      <td>-1.0</td>\n",
              "      <td>-0.489712</td>\n",
              "      <td>-0.685470</td>\n",
              "      <td>-0.048218</td>\n",
              "      <td>-0.645951</td>\n",
              "      <td>0.357143</td>\n",
              "      <td>0.935673</td>\n",
              "      <td>-0.506173</td>\n",
              "      <td>-0.815385</td>\n",
              "      <td>-0.056604</td>\n",
              "      <td>-0.517241</td>\n",
              "      <td>0.357143</td>\n",
              "      <td>0.947368</td>\n",
              "      <td>-0.525773</td>\n",
              "      <td>-0.5125</td>\n",
              "      <td>-0.111111</td>\n",
              "      <td>-0.714286</td>\n",
              "      <td>0.604396</td>\n",
              "      <td>0.959596</td>\n",
              "      <td>-0.435897</td>\n",
              "      <td>-0.491892</td>\n",
              "      <td>0.000000</td>\n",
              "      <td>-0.575758</td>\n",
              "      <td>0.101449</td>\n",
              "      <td>1.000000</td>\n",
              "      <td>-0.547826</td>\n",
              "      <td>-0.533742</td>\n",
              "      <td>-0.603053</td>\n",
              "      <td>-0.764706</td>\n",
              "      <td>-1.000000</td>\n",
              "      <td>-0.959596</td>\n",
              "      <td>-0.515528</td>\n",
              "      <td>-0.351328</td>\n",
              "      <td>-0.747001</td>\n",
              "      <td>-0.756272</td>\n",
              "      <td>-1.000000</td>\n",
              "      <td>-0.961262</td>\n",
              "      <td>0-2</td>\n",
              "      <td>1</td>\n",
              "    </tr>\n",
              "    <tr>\n",
              "      <th>3</th>\n",
              "      <th>15</th>\n",
              "      <td>3</td>\n",
              "      <td>0</td>\n",
              "      <td>40th</td>\n",
              "      <td>1</td>\n",
              "      <td>0.0</td>\n",
              "      <td>0.0</td>\n",
              "      <td>0.0</td>\n",
              "      <td>0.0</td>\n",
              "      <td>0.0</td>\n",
              "      <td>0.0</td>\n",
              "      <td>0.0</td>\n",
              "      <td>1.0</td>\n",
              "      <td>1.0</td>\n",
              "      <td>-0.263158</td>\n",
              "      <td>-0.263158</td>\n",
              "      <td>-0.263158</td>\n",
              "      <td>-0.263158</td>\n",
              "      <td>-1.0</td>\n",
              "      <td>-1.0</td>\n",
              "      <td>-1.0</td>\n",
              "      <td>-1.0</td>\n",
              "      <td>-1.0</td>\n",
              "      <td>-1.0</td>\n",
              "      <td>-1.0</td>\n",
              "      <td>-1.0</td>\n",
              "      <td>-1.0</td>\n",
              "      <td>-1.0</td>\n",
              "      <td>-1.0</td>\n",
              "      <td>-0.317073</td>\n",
              "      <td>-0.317073</td>\n",
              "      <td>-0.317073</td>\n",
              "      <td>-0.317073</td>\n",
              "      <td>-1.0</td>\n",
              "      <td>-0.317073</td>\n",
              "      <td>-0.317073</td>\n",
              "      <td>-0.317073</td>\n",
              "      <td>-0.317073</td>\n",
              "      <td>-1.0</td>\n",
              "      <td>-0.972789</td>\n",
              "      <td>-0.972789</td>\n",
              "      <td>...</td>\n",
              "      <td>-0.978029</td>\n",
              "      <td>-1.0</td>\n",
              "      <td>0.012346</td>\n",
              "      <td>-0.369231</td>\n",
              "      <td>-0.528302</td>\n",
              "      <td>-0.457627</td>\n",
              "      <td>-0.285714</td>\n",
              "      <td>0.684211</td>\n",
              "      <td>0.012346</td>\n",
              "      <td>-0.369231</td>\n",
              "      <td>-0.528302</td>\n",
              "      <td>-0.448276</td>\n",
              "      <td>-0.285714</td>\n",
              "      <td>0.684211</td>\n",
              "      <td>0.175258</td>\n",
              "      <td>-0.1125</td>\n",
              "      <td>-0.384615</td>\n",
              "      <td>-0.357143</td>\n",
              "      <td>0.208791</td>\n",
              "      <td>0.878788</td>\n",
              "      <td>-0.299145</td>\n",
              "      <td>-0.556757</td>\n",
              "      <td>-0.626866</td>\n",
              "      <td>-0.515152</td>\n",
              "      <td>-0.420290</td>\n",
              "      <td>0.684211</td>\n",
              "      <td>-1.000000</td>\n",
              "      <td>-1.000000</td>\n",
              "      <td>-1.000000</td>\n",
              "      <td>-1.000000</td>\n",
              "      <td>-1.000000</td>\n",
              "      <td>-1.000000</td>\n",
              "      <td>-1.000000</td>\n",
              "      <td>-1.000000</td>\n",
              "      <td>-1.000000</td>\n",
              "      <td>-1.000000</td>\n",
              "      <td>-1.000000</td>\n",
              "      <td>-1.000000</td>\n",
              "      <td>0-2</td>\n",
              "      <td>0</td>\n",
              "    </tr>\n",
              "    <tr>\n",
              "      <th>4</th>\n",
              "      <th>20</th>\n",
              "      <td>4</td>\n",
              "      <td>0</td>\n",
              "      <td>10th</td>\n",
              "      <td>0</td>\n",
              "      <td>0.0</td>\n",
              "      <td>0.0</td>\n",
              "      <td>0.0</td>\n",
              "      <td>0.0</td>\n",
              "      <td>0.0</td>\n",
              "      <td>0.0</td>\n",
              "      <td>0.0</td>\n",
              "      <td>0.0</td>\n",
              "      <td>1.0</td>\n",
              "      <td>0.605263</td>\n",
              "      <td>0.605263</td>\n",
              "      <td>0.605263</td>\n",
              "      <td>0.605263</td>\n",
              "      <td>-1.0</td>\n",
              "      <td>-1.0</td>\n",
              "      <td>-1.0</td>\n",
              "      <td>-1.0</td>\n",
              "      <td>-1.0</td>\n",
              "      <td>-1.0</td>\n",
              "      <td>-1.0</td>\n",
              "      <td>-1.0</td>\n",
              "      <td>-1.0</td>\n",
              "      <td>-1.0</td>\n",
              "      <td>-1.0</td>\n",
              "      <td>-0.317073</td>\n",
              "      <td>-0.317073</td>\n",
              "      <td>-0.317073</td>\n",
              "      <td>-0.317073</td>\n",
              "      <td>-1.0</td>\n",
              "      <td>-0.317073</td>\n",
              "      <td>-0.317073</td>\n",
              "      <td>-0.317073</td>\n",
              "      <td>-0.317073</td>\n",
              "      <td>-1.0</td>\n",
              "      <td>-0.935113</td>\n",
              "      <td>-0.935113</td>\n",
              "      <td>...</td>\n",
              "      <td>-1.000000</td>\n",
              "      <td>-1.0</td>\n",
              "      <td>0.333333</td>\n",
              "      <td>-0.153846</td>\n",
              "      <td>0.160377</td>\n",
              "      <td>-0.593220</td>\n",
              "      <td>0.285714</td>\n",
              "      <td>0.868421</td>\n",
              "      <td>0.333333</td>\n",
              "      <td>-0.153846</td>\n",
              "      <td>0.160377</td>\n",
              "      <td>-0.586207</td>\n",
              "      <td>0.285714</td>\n",
              "      <td>0.868421</td>\n",
              "      <td>0.443299</td>\n",
              "      <td>0.0000</td>\n",
              "      <td>0.196581</td>\n",
              "      <td>-0.571429</td>\n",
              "      <td>0.538462</td>\n",
              "      <td>0.939394</td>\n",
              "      <td>-0.076923</td>\n",
              "      <td>-0.351351</td>\n",
              "      <td>-0.044776</td>\n",
              "      <td>-0.575758</td>\n",
              "      <td>0.072464</td>\n",
              "      <td>0.894737</td>\n",
              "      <td>-1.000000</td>\n",
              "      <td>-0.877301</td>\n",
              "      <td>-0.923664</td>\n",
              "      <td>-0.882353</td>\n",
              "      <td>-0.952381</td>\n",
              "      <td>-0.979798</td>\n",
              "      <td>-1.000000</td>\n",
              "      <td>-0.883669</td>\n",
              "      <td>-0.956805</td>\n",
              "      <td>-0.870968</td>\n",
              "      <td>-0.953536</td>\n",
              "      <td>-0.980333</td>\n",
              "      <td>0-2</td>\n",
              "      <td>0</td>\n",
              "    </tr>\n",
              "    <tr>\n",
              "      <th>5</th>\n",
              "      <th>25</th>\n",
              "      <td>5</td>\n",
              "      <td>0</td>\n",
              "      <td>10th</td>\n",
              "      <td>0</td>\n",
              "      <td>0.0</td>\n",
              "      <td>0.0</td>\n",
              "      <td>0.0</td>\n",
              "      <td>0.0</td>\n",
              "      <td>0.0</td>\n",
              "      <td>0.0</td>\n",
              "      <td>0.0</td>\n",
              "      <td>0.0</td>\n",
              "      <td>1.0</td>\n",
              "      <td>0.605263</td>\n",
              "      <td>0.605263</td>\n",
              "      <td>0.605263</td>\n",
              "      <td>0.605263</td>\n",
              "      <td>-1.0</td>\n",
              "      <td>-1.0</td>\n",
              "      <td>-1.0</td>\n",
              "      <td>-1.0</td>\n",
              "      <td>-1.0</td>\n",
              "      <td>-1.0</td>\n",
              "      <td>-1.0</td>\n",
              "      <td>-1.0</td>\n",
              "      <td>-1.0</td>\n",
              "      <td>-1.0</td>\n",
              "      <td>-1.0</td>\n",
              "      <td>-0.317073</td>\n",
              "      <td>-0.317073</td>\n",
              "      <td>-0.317073</td>\n",
              "      <td>-0.317073</td>\n",
              "      <td>-1.0</td>\n",
              "      <td>-0.317073</td>\n",
              "      <td>-0.317073</td>\n",
              "      <td>-0.317073</td>\n",
              "      <td>-0.317073</td>\n",
              "      <td>-1.0</td>\n",
              "      <td>-0.938950</td>\n",
              "      <td>-0.938950</td>\n",
              "      <td>...</td>\n",
              "      <td>-1.000000</td>\n",
              "      <td>-1.0</td>\n",
              "      <td>-0.037037</td>\n",
              "      <td>-0.538462</td>\n",
              "      <td>-0.537736</td>\n",
              "      <td>-0.525424</td>\n",
              "      <td>-0.196429</td>\n",
              "      <td>0.815789</td>\n",
              "      <td>-0.037037</td>\n",
              "      <td>-0.538462</td>\n",
              "      <td>-0.537736</td>\n",
              "      <td>-0.517241</td>\n",
              "      <td>-0.196429</td>\n",
              "      <td>0.815789</td>\n",
              "      <td>0.030928</td>\n",
              "      <td>-0.3750</td>\n",
              "      <td>-0.401709</td>\n",
              "      <td>-0.428571</td>\n",
              "      <td>0.252747</td>\n",
              "      <td>0.919192</td>\n",
              "      <td>-0.247863</td>\n",
              "      <td>-0.567568</td>\n",
              "      <td>-0.626866</td>\n",
              "      <td>-0.575758</td>\n",
              "      <td>-0.333333</td>\n",
              "      <td>0.842105</td>\n",
              "      <td>-0.826087</td>\n",
              "      <td>-0.754601</td>\n",
              "      <td>-0.984733</td>\n",
              "      <td>-1.000000</td>\n",
              "      <td>-0.976190</td>\n",
              "      <td>-0.979798</td>\n",
              "      <td>-0.860870</td>\n",
              "      <td>-0.714460</td>\n",
              "      <td>-0.986481</td>\n",
              "      <td>-1.000000</td>\n",
              "      <td>-0.975891</td>\n",
              "      <td>-0.980129</td>\n",
              "      <td>0-2</td>\n",
              "      <td>0</td>\n",
              "    </tr>\n",
              "  </tbody>\n",
              "</table>\n",
              "<p>5 rows × 231 columns</p>\n",
              "</div>"
            ],
            "text/plain": [
              "                             PATIENT_VISIT_IDENTIFIER  AGE_ABOVE65  ... WINDOW  ICU\n",
              "PATIENT_VISIT_IDENTIFIER                                            ...            \n",
              "0                        0                          0            1  ...    0-2    1\n",
              "2                        10                         2            0  ...    0-2    1\n",
              "3                        15                         3            0  ...    0-2    0\n",
              "4                        20                         4            0  ...    0-2    0\n",
              "5                        25                         5            0  ...    0-2    0\n",
              "\n",
              "[5 rows x 231 columns]"
            ]
          },
          "metadata": {
            "tags": []
          },
          "execution_count": 3
        }
      ]
    },
    {
      "cell_type": "markdown",
      "metadata": {
        "id": "42mjCFqe_vjN"
      },
      "source": [
        "#2) Desafios"
      ]
    },
    {
      "cell_type": "markdown",
      "metadata": {
        "id": "P8FY8c_iu7jY"
      },
      "source": [
        "##2.1) Desafio 01: Transformar a coluna AGE_PERCENTIL em dados categóricos, mas utilizando outro método."
      ]
    },
    {
      "cell_type": "code",
      "metadata": {
        "id": "aRjLzJoJu9OS"
      },
      "source": [
        "from sklearn import preprocessing\n",
        "\n",
        "le = preprocessing.LabelEncoder()\n",
        "\n",
        "dados_limpos['AGE_PERCENTIL_LABEL'] = le.fit_transform(dados_limpos.AGE_PERCENTIL)"
      ],
      "execution_count": 4,
      "outputs": []
    },
    {
      "cell_type": "code",
      "metadata": {
        "id": "DL8_GwrByhSs"
      },
      "source": [
        "conjunto = {}\n",
        "\n",
        "for antigo, novo in zip(dados_limpos['AGE_PERCENTIL'] , dados_limpos['AGE_PERCENTIL_LABEL']):\n",
        "  conjunto[antigo] = novo"
      ],
      "execution_count": 5,
      "outputs": []
    },
    {
      "cell_type": "code",
      "metadata": {
        "colab": {
          "base_uri": "https://localhost:8080/"
        },
        "id": "R3gYJ4rdzFlj",
        "outputId": "a10177ab-cbc8-45ab-e80f-e13aba846108"
      },
      "source": [
        "conjunto"
      ],
      "execution_count": 6,
      "outputs": [
        {
          "output_type": "execute_result",
          "data": {
            "text/plain": [
              "{'10th': 0,\n",
              " '20th': 1,\n",
              " '30th': 2,\n",
              " '40th': 3,\n",
              " '50th': 4,\n",
              " '60th': 5,\n",
              " '70th': 6,\n",
              " '80th': 7,\n",
              " '90th': 8,\n",
              " 'Above 90th': 9}"
            ]
          },
          "metadata": {
            "tags": []
          },
          "execution_count": 6
        }
      ]
    },
    {
      "cell_type": "markdown",
      "metadata": {
        "id": "Xg_40GLy_0hM"
      },
      "source": [
        "## 2.2) Desafio 04: Pesquisar e plotar a arvore de decisão criada pelo modelo."
      ]
    },
    {
      "cell_type": "code",
      "metadata": {
        "id": "21bZKAfw_82k"
      },
      "source": [
        "dados = pd.read_excel(\"https://github.com/HenriqueCCdA/bootCampAluraDataScience/blob/master/modulo5/dados/Kaggle_Sirio_Libanes_ICU_Prediction.xlsx?raw=true\")\n",
        "dados_limpos = cl.limpando_dados(dados)\n",
        "le = preprocessing.LabelEncoder()\n",
        "dados_limpos['AGE_PERCENTIL'] = le.fit_transform(dados_limpos.AGE_PERCENTIL)"
      ],
      "execution_count": 7,
      "outputs": []
    },
    {
      "cell_type": "code",
      "metadata": {
        "id": "0JYUZ9ldAAag",
        "outputId": "2edbe546-9cfa-4eb2-f403-9f23899c7429",
        "colab": {
          "base_uri": "https://localhost:8080/"
        }
      },
      "source": [
        "from sklearn.tree import DecisionTreeClassifier\n",
        "\n",
        "np.random.seed(73246)\n",
        "\n",
        "x_columns = dados.columns\n",
        "y = dados_limpos[\"ICU\"]\n",
        "x = dados_limpos[x_columns].drop([\"ICU\",\"WINDOW\"], axis=1)\n",
        "x_train, x_test, y_train, y_test = train_test_split(x, y, stratify=y)\n",
        "\n",
        "modelo_arvore = DecisionTreeClassifier(max_depth=3)\n",
        "\n",
        "modelo_arvore.fit(x_train, y_train)\n",
        "\n",
        "predicao_arvore = modelo_arvore.predict(x_test)\n",
        "\n",
        "accuracy_score(y_test, predicao_arvore)"
      ],
      "execution_count": 42,
      "outputs": [
        {
          "output_type": "execute_result",
          "data": {
            "text/plain": [
              "0.6363636363636364"
            ]
          },
          "metadata": {
            "tags": []
          },
          "execution_count": 42
        }
      ]
    },
    {
      "cell_type": "code",
      "metadata": {
        "id": "t4ELpUcDADy0",
        "outputId": "7c228fbe-24f0-4c21-bd70-ec8597eca512",
        "colab": {
          "base_uri": "https://localhost:8080/",
          "height": 357
        }
      },
      "source": [
        "from sklearn import tree\n",
        "import matplotlib.pyplot as plt\n",
        "\n",
        "plt.subplots(figsize=(16,6))\n",
        "ax = tree.plot_tree(modelo_arvore, filled=True)\n",
        "\n",
        "plt.show()"
      ],
      "execution_count": 53,
      "outputs": [
        {
          "output_type": "display_data",
          "data": {
            "image/png": "[encoded data removed]",
            "text/plain": [
              "<Figure size 1152x432 with 1 Axes>"
            ]
          },
          "metadata": {
            "tags": [],
            "needs_background": "light"
          }
        }
      ]
    },
    {
      "cell_type": "code",
      "metadata": {
        "id": "W68POQTSCC5w",
        "outputId": "9d1ac2fd-6619-4d34-d0fd-d032764c31c5",
        "colab": {
          "base_uri": "https://localhost:8080/",
          "height": 502
        }
      },
      "source": [
        "import graphviz \n",
        "\n",
        "dot_data = tree.export_graphviz(modelo_arvore, \n",
        "                                out_file=None,\n",
        "                                filled=True, \n",
        "                                rounded=True,  \n",
        "                                special_characters=True) \n",
        "\n",
        "graph = graphviz.Source(dot_data) \n",
        "graph"
      ],
      "execution_count": 51,
      "outputs": [
        {
          "output_type": "execute_result",
          "data": {
            "text/plain": [
              "<graphviz.files.Source at 0x7f04c7f45f10>"
            ],
            "image/svg+xml": "<?xml version=\"1.0\" encoding=\"UTF-8\" standalone=\"no\"?>\n<!DOCTYPE svg PUBLIC \"-//W3C//DTD SVG 1.1//EN\"\n \"http://www.w3.org/Graphics/SVG/1.1/DTD/svg11.dtd\">\n<!-- Generated by graphviz version 2.40.1 (20161225.0304)\n -->\n<!-- Title: Tree Pages: 1 -->\n<svg width=\"982pt\" height=\"361pt\"\n viewBox=\"0.00 0.00 981.50 361.00\" xmlns=\"http://www.w3.org/2000/svg\" xmlns:xlink=\"http://www.w3.org/1999/xlink\">\n<g id=\"graph0\" class=\"graph\" transform=\"scale(1 1) rotate(0) translate(4 357)\">\n<title>Tree</title>\n<polygon fill=\"#ffffff\" stroke=\"transparent\" points=\"-4,4 -4,-357 977.5,-357 977.5,4 -4,4\"/>\n<!-- 0 -->\n<g id=\"node1\" class=\"node\">\n<title>0</title>\n<path fill=\"#fbede3\" stroke=\"#000000\" d=\"M543,-353C543,-353 435,-353 435,-353 429,-353 423,-347 423,-341 423,-341 423,-301 423,-301 423,-295 429,-289 435,-289 435,-289 543,-289 543,-289 549,-289 555,-295 555,-301 555,-301 555,-341 555,-341 555,-347 549,-353 543,-353\"/>\n<text text-anchor=\"start\" x=\"462.5\" y=\"-338.8\" font-family=\"Helvetica,sans-Serif\" font-size=\"14.00\" fill=\"#000000\">X</text>\n<text text-anchor=\"start\" x=\"472.5\" y=\"-338.8\" font-family=\"Helvetica,sans-Serif\" baseline-shift=\"sub\" font-size=\"14.00\" fill=\"#000000\">2</text>\n<text text-anchor=\"start\" x=\"479.5\" y=\"-338.8\" font-family=\"Helvetica,sans-Serif\" font-size=\"14.00\" fill=\"#000000\"> ≤ 6.5</text>\n<text text-anchor=\"start\" x=\"451\" y=\"-324.8\" font-family=\"Helvetica,sans-Serif\" font-size=\"14.00\" fill=\"#000000\">gini = 0.497</text>\n<text text-anchor=\"start\" x=\"441\" y=\"-310.8\" font-family=\"Helvetica,sans-Serif\" font-size=\"14.00\" fill=\"#000000\">samples = 264</text>\n<text text-anchor=\"start\" x=\"431\" y=\"-296.8\" font-family=\"Helvetica,sans-Serif\" font-size=\"14.00\" fill=\"#000000\">value = [142, 122]</text>\n</g>\n<!-- 1 -->\n<g id=\"node2\" class=\"node\">\n<title>1</title>\n<path fill=\"#f3c4a2\" stroke=\"#000000\" d=\"M425,-253C425,-253 325,-253 325,-253 319,-253 313,-247 313,-241 313,-241 313,-201 313,-201 313,-195 319,-189 325,-189 325,-189 425,-189 425,-189 431,-189 437,-195 437,-201 437,-201 437,-241 437,-241 437,-247 431,-253 425,-253\"/>\n<text text-anchor=\"start\" x=\"331\" y=\"-238.8\" font-family=\"Helvetica,sans-Serif\" font-size=\"14.00\" fill=\"#000000\">X</text>\n<text text-anchor=\"start\" x=\"341\" y=\"-238.8\" font-family=\"Helvetica,sans-Serif\" baseline-shift=\"sub\" font-size=\"14.00\" fill=\"#000000\">130</text>\n<text text-anchor=\"start\" x=\"362\" y=\"-238.8\" font-family=\"Helvetica,sans-Serif\" font-size=\"14.00\" fill=\"#000000\"> ≤ &#45;0.567</text>\n<text text-anchor=\"start\" x=\"337\" y=\"-224.8\" font-family=\"Helvetica,sans-Serif\" font-size=\"14.00\" fill=\"#000000\">gini = 0.453</text>\n<text text-anchor=\"start\" x=\"327\" y=\"-210.8\" font-family=\"Helvetica,sans-Serif\" font-size=\"14.00\" fill=\"#000000\">samples = 190</text>\n<text text-anchor=\"start\" x=\"321\" y=\"-196.8\" font-family=\"Helvetica,sans-Serif\" font-size=\"14.00\" fill=\"#000000\">value = [124, 66]</text>\n</g>\n<!-- 0&#45;&gt;1 -->\n<g id=\"edge1\" class=\"edge\">\n<title>0&#45;&gt;1</title>\n<path fill=\"none\" stroke=\"#000000\" d=\"M452.3022,-288.8089C441.8268,-279.62 430.2992,-269.508 419.4158,-259.9612\"/>\n<polygon fill=\"#000000\" stroke=\"#000000\" points=\"421.4547,-257.094 411.6291,-253.1308 416.8386,-262.3563 421.4547,-257.094\"/>\n<text text-anchor=\"middle\" x=\"413.2611\" y=\"-274.3774\" font-family=\"Helvetica,sans-Serif\" font-size=\"14.00\" fill=\"#000000\">True</text>\n</g>\n<!-- 8 -->\n<g id=\"node9\" class=\"node\">\n<title>8</title>\n<path fill=\"#79bced\" stroke=\"#000000\" d=\"M665,-253C665,-253 573,-253 573,-253 567,-253 561,-247 561,-241 561,-241 561,-201 561,-201 561,-195 567,-189 573,-189 573,-189 665,-189 665,-189 671,-189 677,-195 677,-201 677,-201 677,-241 677,-241 677,-247 671,-253 665,-253\"/>\n<text text-anchor=\"start\" x=\"577.5\" y=\"-238.8\" font-family=\"Helvetica,sans-Serif\" font-size=\"14.00\" fill=\"#000000\">X</text>\n<text text-anchor=\"start\" x=\"587.5\" y=\"-238.8\" font-family=\"Helvetica,sans-Serif\" baseline-shift=\"sub\" font-size=\"14.00\" fill=\"#000000\">199</text>\n<text text-anchor=\"start\" x=\"608.5\" y=\"-238.8\" font-family=\"Helvetica,sans-Serif\" font-size=\"14.00\" fill=\"#000000\"> ≤ 0.148</text>\n<text text-anchor=\"start\" x=\"581\" y=\"-224.8\" font-family=\"Helvetica,sans-Serif\" font-size=\"14.00\" fill=\"#000000\">gini = 0.368</text>\n<text text-anchor=\"start\" x=\"575\" y=\"-210.8\" font-family=\"Helvetica,sans-Serif\" font-size=\"14.00\" fill=\"#000000\">samples = 74</text>\n<text text-anchor=\"start\" x=\"569\" y=\"-196.8\" font-family=\"Helvetica,sans-Serif\" font-size=\"14.00\" fill=\"#000000\">value = [18, 56]</text>\n</g>\n<!-- 0&#45;&gt;8 -->\n<g id=\"edge8\" class=\"edge\">\n<title>0&#45;&gt;8</title>\n<path fill=\"none\" stroke=\"#000000\" d=\"M530.8484,-288.8089C543.0259,-279.4416 556.4505,-269.115 569.0726,-259.4057\"/>\n<polygon fill=\"#000000\" stroke=\"#000000\" points=\"571.4378,-262.0021 577.23,-253.1308 567.1698,-256.4537 571.4378,-262.0021\"/>\n<text text-anchor=\"middle\" x=\"573.9965\" y=\"-274.2208\" font-family=\"Helvetica,sans-Serif\" font-size=\"14.00\" fill=\"#000000\">False</text>\n</g>\n<!-- 2 -->\n<g id=\"node3\" class=\"node\">\n<title>2</title>\n<path fill=\"#efb387\" stroke=\"#000000\" d=\"M246,-153C246,-153 146,-153 146,-153 140,-153 134,-147 134,-141 134,-141 134,-101 134,-101 134,-95 140,-89 146,-89 146,-89 246,-89 246,-89 252,-89 258,-95 258,-101 258,-101 258,-141 258,-141 258,-147 252,-153 246,-153\"/>\n<text text-anchor=\"start\" x=\"155.5\" y=\"-138.8\" font-family=\"Helvetica,sans-Serif\" font-size=\"14.00\" fill=\"#000000\">X</text>\n<text text-anchor=\"start\" x=\"165.5\" y=\"-138.8\" font-family=\"Helvetica,sans-Serif\" baseline-shift=\"sub\" font-size=\"14.00\" fill=\"#000000\">54</text>\n<text text-anchor=\"start\" x=\"179.5\" y=\"-138.8\" font-family=\"Helvetica,sans-Serif\" font-size=\"14.00\" fill=\"#000000\"> ≤ &#45;0.858</text>\n<text text-anchor=\"start\" x=\"158\" y=\"-124.8\" font-family=\"Helvetica,sans-Serif\" font-size=\"14.00\" fill=\"#000000\">gini = 0.405</text>\n<text text-anchor=\"start\" x=\"148\" y=\"-110.8\" font-family=\"Helvetica,sans-Serif\" font-size=\"14.00\" fill=\"#000000\">samples = 170</text>\n<text text-anchor=\"start\" x=\"142\" y=\"-96.8\" font-family=\"Helvetica,sans-Serif\" font-size=\"14.00\" fill=\"#000000\">value = [122, 48]</text>\n</g>\n<!-- 1&#45;&gt;2 -->\n<g id=\"edge2\" class=\"edge\">\n<title>1&#45;&gt;2</title>\n<path fill=\"none\" stroke=\"#000000\" d=\"M317.378,-188.8089C299.812,-178.9955 280.3615,-168.1293 262.2713,-158.023\"/>\n<polygon fill=\"#000000\" stroke=\"#000000\" points=\"263.9511,-154.9524 253.5141,-153.1308 260.5371,-161.0635 263.9511,-154.9524\"/>\n</g>\n<!-- 5 -->\n<g id=\"node6\" class=\"node\">\n<title>5</title>\n<path fill=\"#4fa8e8\" stroke=\"#000000\" d=\"M416.5,-153C416.5,-153 333.5,-153 333.5,-153 327.5,-153 321.5,-147 321.5,-141 321.5,-141 321.5,-101 321.5,-101 321.5,-95 327.5,-89 333.5,-89 333.5,-89 416.5,-89 416.5,-89 422.5,-89 428.5,-95 428.5,-101 428.5,-101 428.5,-141 428.5,-141 428.5,-147 422.5,-153 416.5,-153\"/>\n<text text-anchor=\"start\" x=\"334.5\" y=\"-138.8\" font-family=\"Helvetica,sans-Serif\" font-size=\"14.00\" fill=\"#000000\">X</text>\n<text text-anchor=\"start\" x=\"344.5\" y=\"-138.8\" font-family=\"Helvetica,sans-Serif\" baseline-shift=\"sub\" font-size=\"14.00\" fill=\"#000000\">99</text>\n<text text-anchor=\"start\" x=\"358.5\" y=\"-138.8\" font-family=\"Helvetica,sans-Serif\" font-size=\"14.00\" fill=\"#000000\"> ≤ &#45;0.901</text>\n<text text-anchor=\"start\" x=\"341.5\" y=\"-124.8\" font-family=\"Helvetica,sans-Serif\" font-size=\"14.00\" fill=\"#000000\">gini = 0.18</text>\n<text text-anchor=\"start\" x=\"331\" y=\"-110.8\" font-family=\"Helvetica,sans-Serif\" font-size=\"14.00\" fill=\"#000000\">samples = 20</text>\n<text text-anchor=\"start\" x=\"329.5\" y=\"-96.8\" font-family=\"Helvetica,sans-Serif\" font-size=\"14.00\" fill=\"#000000\">value = [2, 18]</text>\n</g>\n<!-- 1&#45;&gt;5 -->\n<g id=\"edge5\" class=\"edge\">\n<title>1&#45;&gt;5</title>\n<path fill=\"none\" stroke=\"#000000\" d=\"M375,-188.8089C375,-180.6906 375,-171.8517 375,-163.3186\"/>\n<polygon fill=\"#000000\" stroke=\"#000000\" points=\"378.5001,-163.1307 375,-153.1308 371.5001,-163.1308 378.5001,-163.1307\"/>\n</g>\n<!-- 3 -->\n<g id=\"node4\" class=\"node\">\n<title>3</title>\n<path fill=\"#eca572\" stroke=\"#000000\" d=\"M112,-53C112,-53 12,-53 12,-53 6,-53 0,-47 0,-41 0,-41 0,-12 0,-12 0,-6 6,0 12,0 12,0 112,0 112,0 118,0 124,-6 124,-12 124,-12 124,-41 124,-41 124,-47 118,-53 112,-53\"/>\n<text text-anchor=\"start\" x=\"24\" y=\"-37.8\" font-family=\"Helvetica,sans-Serif\" font-size=\"14.00\" fill=\"#000000\">gini = 0.346</text>\n<text text-anchor=\"start\" x=\"14\" y=\"-22.8\" font-family=\"Helvetica,sans-Serif\" font-size=\"14.00\" fill=\"#000000\">samples = 153</text>\n<text text-anchor=\"start\" x=\"8\" y=\"-7.8\" font-family=\"Helvetica,sans-Serif\" font-size=\"14.00\" fill=\"#000000\">value = [119, 34]</text>\n</g>\n<!-- 2&#45;&gt;3 -->\n<g id=\"edge3\" class=\"edge\">\n<title>2&#45;&gt;3</title>\n<path fill=\"none\" stroke=\"#000000\" d=\"M150.2596,-88.7428C136.6977,-79.1786 121.8392,-68.7001 108.2456,-59.1135\"/>\n<polygon fill=\"#000000\" stroke=\"#000000\" points=\"110.1573,-56.1789 99.9679,-53.2759 106.123,-61.8994 110.1573,-56.1789\"/>\n</g>\n<!-- 4 -->\n<g id=\"node5\" class=\"node\">\n<title>4</title>\n<path fill=\"#63b2eb\" stroke=\"#000000\" d=\"M237.5,-53C237.5,-53 154.5,-53 154.5,-53 148.5,-53 142.5,-47 142.5,-41 142.5,-41 142.5,-12 142.5,-12 142.5,-6 148.5,0 154.5,0 154.5,0 237.5,0 237.5,0 243.5,0 249.5,-6 249.5,-12 249.5,-12 249.5,-41 249.5,-41 249.5,-47 243.5,-53 237.5,-53\"/>\n<text text-anchor=\"start\" x=\"158\" y=\"-37.8\" font-family=\"Helvetica,sans-Serif\" font-size=\"14.00\" fill=\"#000000\">gini = 0.291</text>\n<text text-anchor=\"start\" x=\"152\" y=\"-22.8\" font-family=\"Helvetica,sans-Serif\" font-size=\"14.00\" fill=\"#000000\">samples = 17</text>\n<text text-anchor=\"start\" x=\"150.5\" y=\"-7.8\" font-family=\"Helvetica,sans-Serif\" font-size=\"14.00\" fill=\"#000000\">value = [3, 14]</text>\n</g>\n<!-- 2&#45;&gt;4 -->\n<g id=\"edge4\" class=\"edge\">\n<title>2&#45;&gt;4</title>\n<path fill=\"none\" stroke=\"#000000\" d=\"M196,-88.7428C196,-80.6222 196,-71.8426 196,-63.5093\"/>\n<polygon fill=\"#000000\" stroke=\"#000000\" points=\"199.5001,-63.2758 196,-53.2759 192.5001,-63.2759 199.5001,-63.2758\"/>\n</g>\n<!-- 6 -->\n<g id=\"node7\" class=\"node\">\n<title>6</title>\n<path fill=\"#f2c09c\" stroke=\"#000000\" d=\"M354.5,-53C354.5,-53 279.5,-53 279.5,-53 273.5,-53 267.5,-47 267.5,-41 267.5,-41 267.5,-12 267.5,-12 267.5,-6 273.5,0 279.5,0 279.5,0 354.5,0 354.5,0 360.5,0 366.5,-6 366.5,-12 366.5,-12 366.5,-41 366.5,-41 366.5,-47 360.5,-53 354.5,-53\"/>\n<text text-anchor=\"start\" x=\"279\" y=\"-37.8\" font-family=\"Helvetica,sans-Serif\" font-size=\"14.00\" fill=\"#000000\">gini = 0.444</text>\n<text text-anchor=\"start\" x=\"277.5\" y=\"-22.8\" font-family=\"Helvetica,sans-Serif\" font-size=\"14.00\" fill=\"#000000\">samples = 3</text>\n<text text-anchor=\"start\" x=\"275.5\" y=\"-7.8\" font-family=\"Helvetica,sans-Serif\" font-size=\"14.00\" fill=\"#000000\">value = [2, 1]</text>\n</g>\n<!-- 5&#45;&gt;6 -->\n<g id=\"edge6\" class=\"edge\">\n<title>5&#45;&gt;6</title>\n<path fill=\"none\" stroke=\"#000000\" d=\"M355.2019,-88.7428C349.8856,-80.0809 344.109,-70.669 338.6957,-61.849\"/>\n<polygon fill=\"#000000\" stroke=\"#000000\" points=\"341.6478,-59.9678 333.4339,-53.2759 335.6818,-63.6295 341.6478,-59.9678\"/>\n</g>\n<!-- 7 -->\n<g id=\"node8\" class=\"node\">\n<title>7</title>\n<path fill=\"#399de5\" stroke=\"#000000\" d=\"M479.5,-53C479.5,-53 396.5,-53 396.5,-53 390.5,-53 384.5,-47 384.5,-41 384.5,-41 384.5,-12 384.5,-12 384.5,-6 390.5,0 396.5,0 396.5,0 479.5,0 479.5,0 485.5,0 491.5,-6 491.5,-12 491.5,-12 491.5,-41 491.5,-41 491.5,-47 485.5,-53 479.5,-53\"/>\n<text text-anchor=\"start\" x=\"408.5\" y=\"-37.8\" font-family=\"Helvetica,sans-Serif\" font-size=\"14.00\" fill=\"#000000\">gini = 0.0</text>\n<text text-anchor=\"start\" x=\"394\" y=\"-22.8\" font-family=\"Helvetica,sans-Serif\" font-size=\"14.00\" fill=\"#000000\">samples = 17</text>\n<text text-anchor=\"start\" x=\"392.5\" y=\"-7.8\" font-family=\"Helvetica,sans-Serif\" font-size=\"14.00\" fill=\"#000000\">value = [0, 17]</text>\n</g>\n<!-- 5&#45;&gt;7 -->\n<g id=\"edge7\" class=\"edge\">\n<title>5&#45;&gt;7</title>\n<path fill=\"none\" stroke=\"#000000\" d=\"M396.5048,-88.7428C402.2794,-80.0809 408.554,-70.669 414.434,-61.849\"/>\n<polygon fill=\"#000000\" stroke=\"#000000\" points=\"417.5146,-63.5379 420.1494,-53.2759 411.6902,-59.6549 417.5146,-63.5379\"/>\n</g>\n<!-- 9 -->\n<g id=\"node10\" class=\"node\">\n<title>9</title>\n<path fill=\"#58ace9\" stroke=\"#000000\" d=\"M660.5,-153C660.5,-153 577.5,-153 577.5,-153 571.5,-153 565.5,-147 565.5,-141 565.5,-141 565.5,-101 565.5,-101 565.5,-95 571.5,-89 577.5,-89 577.5,-89 660.5,-89 660.5,-89 666.5,-89 672.5,-95 672.5,-101 672.5,-101 672.5,-141 672.5,-141 672.5,-147 666.5,-153 660.5,-153\"/>\n<text text-anchor=\"start\" x=\"578.5\" y=\"-138.8\" font-family=\"Helvetica,sans-Serif\" font-size=\"14.00\" fill=\"#000000\">X</text>\n<text text-anchor=\"start\" x=\"588.5\" y=\"-138.8\" font-family=\"Helvetica,sans-Serif\" baseline-shift=\"sub\" font-size=\"14.00\" fill=\"#000000\">59</text>\n<text text-anchor=\"start\" x=\"602.5\" y=\"-138.8\" font-family=\"Helvetica,sans-Serif\" font-size=\"14.00\" fill=\"#000000\"> ≤ &#45;0.866</text>\n<text text-anchor=\"start\" x=\"581\" y=\"-124.8\" font-family=\"Helvetica,sans-Serif\" font-size=\"14.00\" fill=\"#000000\">gini = 0.234</text>\n<text text-anchor=\"start\" x=\"575\" y=\"-110.8\" font-family=\"Helvetica,sans-Serif\" font-size=\"14.00\" fill=\"#000000\">samples = 59</text>\n<text text-anchor=\"start\" x=\"573.5\" y=\"-96.8\" font-family=\"Helvetica,sans-Serif\" font-size=\"14.00\" fill=\"#000000\">value = [8, 51]</text>\n</g>\n<!-- 8&#45;&gt;9 -->\n<g id=\"edge9\" class=\"edge\">\n<title>8&#45;&gt;9</title>\n<path fill=\"none\" stroke=\"#000000\" d=\"M619,-188.8089C619,-180.6906 619,-171.8517 619,-163.3186\"/>\n<polygon fill=\"#000000\" stroke=\"#000000\" points=\"622.5001,-163.1307 619,-153.1308 615.5001,-163.1308 622.5001,-163.1307\"/>\n</g>\n<!-- 12 -->\n<g id=\"node13\" class=\"node\">\n<title>12</title>\n<path fill=\"#f2c09c\" stroke=\"#000000\" d=\"M845.5,-153C845.5,-153 762.5,-153 762.5,-153 756.5,-153 750.5,-147 750.5,-141 750.5,-141 750.5,-101 750.5,-101 750.5,-95 756.5,-89 762.5,-89 762.5,-89 845.5,-89 845.5,-89 851.5,-89 857.5,-95 857.5,-101 857.5,-101 857.5,-141 857.5,-141 857.5,-147 851.5,-153 845.5,-153\"/>\n<text text-anchor=\"start\" x=\"760\" y=\"-138.8\" font-family=\"Helvetica,sans-Serif\" font-size=\"14.00\" fill=\"#000000\">X</text>\n<text text-anchor=\"start\" x=\"770\" y=\"-138.8\" font-family=\"Helvetica,sans-Serif\" baseline-shift=\"sub\" font-size=\"14.00\" fill=\"#000000\">208</text>\n<text text-anchor=\"start\" x=\"791\" y=\"-138.8\" font-family=\"Helvetica,sans-Serif\" font-size=\"14.00\" fill=\"#000000\"> ≤ &#45;0.321</text>\n<text text-anchor=\"start\" x=\"766\" y=\"-124.8\" font-family=\"Helvetica,sans-Serif\" font-size=\"14.00\" fill=\"#000000\">gini = 0.444</text>\n<text text-anchor=\"start\" x=\"760\" y=\"-110.8\" font-family=\"Helvetica,sans-Serif\" font-size=\"14.00\" fill=\"#000000\">samples = 15</text>\n<text text-anchor=\"start\" x=\"758.5\" y=\"-96.8\" font-family=\"Helvetica,sans-Serif\" font-size=\"14.00\" fill=\"#000000\">value = [10, 5]</text>\n</g>\n<!-- 8&#45;&gt;12 -->\n<g id=\"edge12\" class=\"edge\">\n<title>8&#45;&gt;12</title>\n<path fill=\"none\" stroke=\"#000000\" d=\"M677.0276,-189.6337C697.4272,-178.6069 720.4371,-166.1691 741.2104,-154.9403\"/>\n<polygon fill=\"#000000\" stroke=\"#000000\" points=\"743.1372,-157.8774 750.27,-150.0432 739.8086,-151.7195 743.1372,-157.8774\"/>\n</g>\n<!-- 10 -->\n<g id=\"node11\" class=\"node\">\n<title>10</title>\n<path fill=\"#e58139\" stroke=\"#000000\" d=\"M596.5,-53C596.5,-53 521.5,-53 521.5,-53 515.5,-53 509.5,-47 509.5,-41 509.5,-41 509.5,-12 509.5,-12 509.5,-6 515.5,0 521.5,0 521.5,0 596.5,0 596.5,0 602.5,0 608.5,-6 608.5,-12 608.5,-12 608.5,-41 608.5,-41 608.5,-47 602.5,-53 596.5,-53\"/>\n<text text-anchor=\"start\" x=\"529.5\" y=\"-37.8\" font-family=\"Helvetica,sans-Serif\" font-size=\"14.00\" fill=\"#000000\">gini = 0.0</text>\n<text text-anchor=\"start\" x=\"519.5\" y=\"-22.8\" font-family=\"Helvetica,sans-Serif\" font-size=\"14.00\" fill=\"#000000\">samples = 2</text>\n<text text-anchor=\"start\" x=\"517.5\" y=\"-7.8\" font-family=\"Helvetica,sans-Serif\" font-size=\"14.00\" fill=\"#000000\">value = [2, 0]</text>\n</g>\n<!-- 9&#45;&gt;10 -->\n<g id=\"edge10\" class=\"edge\">\n<title>9&#45;&gt;10</title>\n<path fill=\"none\" stroke=\"#000000\" d=\"M598.5192,-88.7428C593.0196,-80.0809 587.0438,-70.669 581.4438,-61.849\"/>\n<polygon fill=\"#000000\" stroke=\"#000000\" points=\"584.3154,-59.842 576.0005,-53.2759 578.4059,-63.5941 584.3154,-59.842\"/>\n</g>\n<!-- 11 -->\n<g id=\"node12\" class=\"node\">\n<title>11</title>\n<path fill=\"#50a9e8\" stroke=\"#000000\" d=\"M721.5,-53C721.5,-53 638.5,-53 638.5,-53 632.5,-53 626.5,-47 626.5,-41 626.5,-41 626.5,-12 626.5,-12 626.5,-6 632.5,0 638.5,0 638.5,0 721.5,0 721.5,0 727.5,0 733.5,-6 733.5,-12 733.5,-12 733.5,-41 733.5,-41 733.5,-47 727.5,-53 721.5,-53\"/>\n<text text-anchor=\"start\" x=\"642\" y=\"-37.8\" font-family=\"Helvetica,sans-Serif\" font-size=\"14.00\" fill=\"#000000\">gini = 0.188</text>\n<text text-anchor=\"start\" x=\"636\" y=\"-22.8\" font-family=\"Helvetica,sans-Serif\" font-size=\"14.00\" fill=\"#000000\">samples = 57</text>\n<text text-anchor=\"start\" x=\"634.5\" y=\"-7.8\" font-family=\"Helvetica,sans-Serif\" font-size=\"14.00\" fill=\"#000000\">value = [6, 51]</text>\n</g>\n<!-- 9&#45;&gt;11 -->\n<g id=\"edge11\" class=\"edge\">\n<title>9&#45;&gt;11</title>\n<path fill=\"none\" stroke=\"#000000\" d=\"M639.8221,-88.7428C645.4134,-80.0809 651.4888,-70.669 657.1822,-61.849\"/>\n<polygon fill=\"#000000\" stroke=\"#000000\" points=\"660.2334,-63.5757 662.7161,-53.2759 654.3522,-59.7794 660.2334,-63.5757\"/>\n</g>\n<!-- 13 -->\n<g id=\"node14\" class=\"node\">\n<title>13</title>\n<path fill=\"#e88f4f\" stroke=\"#000000\" d=\"M844,-53C844,-53 764,-53 764,-53 758,-53 752,-47 752,-41 752,-41 752,-12 752,-12 752,-6 758,0 764,0 764,0 844,0 844,0 850,0 856,-6 856,-12 856,-12 856,-41 856,-41 856,-47 850,-53 844,-53\"/>\n<text text-anchor=\"start\" x=\"770.5\" y=\"-37.8\" font-family=\"Helvetica,sans-Serif\" font-size=\"14.00\" fill=\"#000000\">gini = 0.18</text>\n<text text-anchor=\"start\" x=\"760\" y=\"-22.8\" font-family=\"Helvetica,sans-Serif\" font-size=\"14.00\" fill=\"#000000\">samples = 10</text>\n<text text-anchor=\"start\" x=\"762.5\" y=\"-7.8\" font-family=\"Helvetica,sans-Serif\" font-size=\"14.00\" fill=\"#000000\">value = [9, 1]</text>\n</g>\n<!-- 12&#45;&gt;13 -->\n<g id=\"edge13\" class=\"edge\">\n<title>12&#45;&gt;13</title>\n<path fill=\"none\" stroke=\"#000000\" d=\"M804,-88.7428C804,-80.6222 804,-71.8426 804,-63.5093\"/>\n<polygon fill=\"#000000\" stroke=\"#000000\" points=\"807.5001,-63.2758 804,-53.2759 800.5001,-63.2759 807.5001,-63.2758\"/>\n</g>\n<!-- 14 -->\n<g id=\"node15\" class=\"node\">\n<title>14</title>\n<path fill=\"#6ab6ec\" stroke=\"#000000\" d=\"M961.5,-53C961.5,-53 886.5,-53 886.5,-53 880.5,-53 874.5,-47 874.5,-41 874.5,-41 874.5,-12 874.5,-12 874.5,-6 880.5,0 886.5,0 886.5,0 961.5,0 961.5,0 967.5,0 973.5,-6 973.5,-12 973.5,-12 973.5,-41 973.5,-41 973.5,-47 967.5,-53 961.5,-53\"/>\n<text text-anchor=\"start\" x=\"890.5\" y=\"-37.8\" font-family=\"Helvetica,sans-Serif\" font-size=\"14.00\" fill=\"#000000\">gini = 0.32</text>\n<text text-anchor=\"start\" x=\"884.5\" y=\"-22.8\" font-family=\"Helvetica,sans-Serif\" font-size=\"14.00\" fill=\"#000000\">samples = 5</text>\n<text text-anchor=\"start\" x=\"882.5\" y=\"-7.8\" font-family=\"Helvetica,sans-Serif\" font-size=\"14.00\" fill=\"#000000\">value = [1, 4]</text>\n</g>\n<!-- 12&#45;&gt;14 -->\n<g id=\"edge14\" class=\"edge\">\n<title>12&#45;&gt;14</title>\n<path fill=\"none\" stroke=\"#000000\" d=\"M844.9616,-88.7428C856.8774,-79.359 869.9109,-69.0952 881.8958,-59.657\"/>\n<polygon fill=\"#000000\" stroke=\"#000000\" points=\"884.3079,-62.2125 889.9989,-53.2759 879.9771,-56.7131 884.3079,-62.2125\"/>\n</g>\n</g>\n</svg>\n"
          },
          "metadata": {
            "tags": []
          },
          "execution_count": 51
        }
      ]
    },
    {
      "cell_type": "code",
      "metadata": {
        "id": "TBslTJ3mFCkY"
      },
      "source": [
        ""
      ],
      "execution_count": null,
      "outputs": []
    },
    {
      "cell_type": "markdown",
      "metadata": {
        "id": "xxmOdC6uHLbA"
      },
      "source": [
        "##2.3) Desafio 05: Criar uma função que gere a curva ROC."
      ]
    },
    {
      "cell_type": "code",
      "metadata": {
        "id": "QASXk0xaHVlJ",
        "outputId": "a8db32e1-4e74-447f-8b5f-1ac0233a4155",
        "colab": {
          "base_uri": "https://localhost:8080/"
        }
      },
      "source": [
        "from sklearn.metrics import roc_auc_score\n",
        "\n",
        "np.random.seed(73246)\n",
        "\n",
        "x_columns = dados.columns\n",
        "y = dados_limpos[\"ICU\"]\n",
        "x = dados_limpos[x_columns].drop([\"ICU\",\"WINDOW\"], axis=1)\n",
        "x_train, x_test, y_train, y_test = train_test_split(x, y, stratify=y)\n",
        "\n",
        "modelo_arvore = DecisionTreeClassifier(max_depth=3)\n",
        "\n",
        "modelo_arvore.fit(x_train, y_train)\n",
        "\n",
        "prob_arvore = modelo_arvore.predict_proba(x_test)\n",
        "predicao_arvore = modelo_arvore.predict(x_test)\n",
        "\n",
        "print(roc_auc_score(y_test, prob_arvore[:,1]))\n",
        "print(accuracy_score(y_test, predicao_arvore))"
      ],
      "execution_count": 55,
      "outputs": [
        {
          "output_type": "stream",
          "text": [
            "0.6411520498183705\n",
            "0.6363636363636364\n"
          ],
          "name": "stdout"
        }
      ]
    },
    {
      "cell_type": "code",
      "metadata": {
        "id": "t4IoyQHMTZY0"
      },
      "source": [
        ""
      ],
      "execution_count": null,
      "outputs": []
    }
  ]
}