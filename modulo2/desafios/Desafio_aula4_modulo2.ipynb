{
  "nbformat": 4,
  "nbformat_minor": 0,
  "metadata": {
    "colab": {
      "name": "Desafio_aula4_modulo2.ipynb",
      "provenance": [],
      "toc_visible": true,
      "authorship_tag": "ABX9TyMlmJ2aDslSc3Ps1wx/ZI8j",
      "include_colab_link": true
    },
    "kernelspec": {
      "name": "python3",
      "display_name": "Python 3"
    },
    "language_info": {
      "name": "python"
    }
  },
  "cells": [
    {
      "cell_type": "markdown",
      "metadata": {
        "id": "view-in-github",
        "colab_type": "text"
      },
      "source": [
        "<a href=\"https://colab.research.google.com/github/HenriqueCCdA/bootCampAluraDataScience/blob/master/modulo2/desafios/Desafio_aula4_modulo2.ipynb\" target=\"_parent\"><img src=\"https://colab.research.google.com/assets/colab-badge.svg\" alt=\"Open In Colab\"/></a>"
      ]
    },
    {
      "cell_type": "markdown",
      "metadata": {
        "id": "JMMl1AcQRpD6"
      },
      "source": [
        "# 1) Pre-analise"
      ]
    },
    {
      "cell_type": "markdown",
      "metadata": {
        "id": "qul9n8erRP-T"
      },
      "source": [
        "---\n",
        "## 1.1) Funções de apoio\n",
        "---"
      ]
    },
    {
      "cell_type": "markdown",
      "metadata": {
        "id": "pt8d3-oGRXzz"
      },
      "source": [
        "---"
      ]
    },
    {
      "cell_type": "markdown",
      "metadata": {
        "id": "i7dqEDYjQ_xG"
      },
      "source": [
        "---\n",
        "## 1.2) Bibliotecas utilizadas\n",
        "\n",
        "* searborn\n",
        "* pandas\n",
        "* matplotlib\n",
        "* datatime\n",
        "---"
      ]
    },
    {
      "cell_type": "code",
      "metadata": {
        "id": "NhXE5g0ogP7v"
      },
      "source": [
        "import seaborn as sns\n",
        "import pandas as pd\n",
        "import matplotlib.pyplot as plt\n",
        "\n",
        "# pandas configuracao\n",
        "pd.options.display.float_format  =\"{:,.2f}\".format"
      ],
      "execution_count": 2,
      "outputs": []
    },
    {
      "cell_type": "markdown",
      "metadata": {
        "id": "oJKsOCEmROXr"
      },
      "source": [
        "---"
      ]
    },
    {
      "cell_type": "markdown",
      "metadata": {
        "id": "8TE5Sa0SRgjK"
      },
      "source": [
        "---\n",
        "## 1.3) Preparação dos dados \n",
        "---"
      ]
    },
    {
      "cell_type": "code",
      "metadata": {
        "id": "LkTcS-ZQp-XI",
        "colab": {
          "base_uri": "https://localhost:8080/",
          "height": 235
        },
        "outputId": "a3fbb743-c127-47bb-8666-6c7d3948f604"
      },
      "source": [
        "uri = \"https://raw.githubusercontent.com/HenriqueCCdA/bootCampAluraDataScience/master/modulo2/desafios/mensal_aberto.csv\"\n",
        "\n",
        "dados = pd.read_csv(uri, usecols=[\"mes\", \"uf\", \"gasto\"], index_col=\"mes\")\n",
        "\n",
        "dados.head()"
      ],
      "execution_count": 3,
      "outputs": [
        {
          "output_type": "execute_result",
          "data": {
            "text/html": [
              "<div>\n",
              "<style scoped>\n",
              "    .dataframe tbody tr th:only-of-type {\n",
              "        vertical-align: middle;\n",
              "    }\n",
              "\n",
              "    .dataframe tbody tr th {\n",
              "        vertical-align: top;\n",
              "    }\n",
              "\n",
              "    .dataframe thead th {\n",
              "        text-align: right;\n",
              "    }\n",
              "</style>\n",
              "<table border=\"1\" class=\"dataframe\">\n",
              "  <thead>\n",
              "    <tr style=\"text-align: right;\">\n",
              "      <th></th>\n",
              "      <th>uf</th>\n",
              "      <th>gasto</th>\n",
              "    </tr>\n",
              "    <tr>\n",
              "      <th>mes</th>\n",
              "      <th></th>\n",
              "      <th></th>\n",
              "    </tr>\n",
              "  </thead>\n",
              "  <tbody>\n",
              "    <tr>\n",
              "      <th>2008-02-01</th>\n",
              "      <td>São Paulo</td>\n",
              "      <td>172.83</td>\n",
              "    </tr>\n",
              "    <tr>\n",
              "      <th>2008-03-01</th>\n",
              "      <td>São Paulo</td>\n",
              "      <td>170.48</td>\n",
              "    </tr>\n",
              "    <tr>\n",
              "      <th>2008-04-01</th>\n",
              "      <td>São Paulo</td>\n",
              "      <td>170.28</td>\n",
              "    </tr>\n",
              "    <tr>\n",
              "      <th>2008-05-01</th>\n",
              "      <td>São Paulo</td>\n",
              "      <td>172.40</td>\n",
              "    </tr>\n",
              "    <tr>\n",
              "      <th>2008-06-01</th>\n",
              "      <td>São Paulo</td>\n",
              "      <td>175.42</td>\n",
              "    </tr>\n",
              "  </tbody>\n",
              "</table>\n",
              "</div>"
            ],
            "text/plain": [
              "                   uf  gasto\n",
              "mes                         \n",
              "2008-02-01  São Paulo 172.83\n",
              "2008-03-01  São Paulo 170.48\n",
              "2008-04-01  São Paulo 170.28\n",
              "2008-05-01  São Paulo 172.40\n",
              "2008-06-01  São Paulo 175.42"
            ]
          },
          "metadata": {
            "tags": []
          },
          "execution_count": 3
        }
      ]
    },
    {
      "cell_type": "code",
      "metadata": {
        "id": "yCD054zJuent"
      },
      "source": [
        "dados.index = pd.to_datetime(dados.index)"
      ],
      "execution_count": 4,
      "outputs": []
    },
    {
      "cell_type": "markdown",
      "metadata": {
        "id": "vuyzBdUgR026"
      },
      "source": [
        "# 2) Desafios"
      ]
    },
    {
      "cell_type": "markdown",
      "metadata": {
        "id": "iHcgEolzgYXd"
      },
      "source": [
        "---\n",
        "## 2.1) Desafio 01: Estudar a documentação DateTime do Python, escolha dois métodos para se aprofundar faça alguns testes e compartilhe o conhecimento adquirido com seus colegas no Discord.\n",
        "---\n",
        "\n"
      ]
    },
    {
      "cell_type": "code",
      "metadata": {
        "id": "ofmyx9tuqk3u",
        "colab": {
          "base_uri": "https://localhost:8080/"
        },
        "outputId": "89104556-4c2b-4359-88ac-f1033c34bead"
      },
      "source": [
        "import datetime \n",
        "\n",
        "from datetime import timedelta\n",
        "\n",
        "periodo_de_tempo = timedelta(days=14)\n",
        "\n",
        "print(f\"14 Dias tem {periodo_de_tempo.total_seconds()} segundos\")"
      ],
      "execution_count": 5,
      "outputs": [
        {
          "output_type": "stream",
          "text": [
            "14 Dias tem 1209600.0 segundos\n"
          ],
          "name": "stdout"
        }
      ]
    },
    {
      "cell_type": "markdown",
      "metadata": {
        "id": "8htaqcrfgfy7"
      },
      "source": [
        "---\n",
        "## 2.2) Desafio 02: Aprendemos a usar o Melt para desnormalizar sua base de dados, agora o desafio é realizar o processo contrário, voltar atrás partindo do mensal_aberto chegando no mensal.\n",
        "---"
      ]
    },
    {
      "cell_type": "code",
      "metadata": {
        "id": "XwZVkzhzs_xI",
        "colab": {
          "base_uri": "https://localhost:8080/",
          "height": 691
        },
        "outputId": "d89fd32d-1ac9-4d8c-ddb6-7ab037b5f67c"
      },
      "source": [
        "dados.pivot(columns='uf', values='gasto')"
      ],
      "execution_count": 6,
      "outputs": [
        {
          "output_type": "execute_result",
          "data": {
            "text/html": [
              "<div>\n",
              "<style scoped>\n",
              "    .dataframe tbody tr th:only-of-type {\n",
              "        vertical-align: middle;\n",
              "    }\n",
              "\n",
              "    .dataframe tbody tr th {\n",
              "        vertical-align: top;\n",
              "    }\n",
              "\n",
              "    .dataframe thead th {\n",
              "        text-align: right;\n",
              "    }\n",
              "</style>\n",
              "<table border=\"1\" class=\"dataframe\">\n",
              "  <thead>\n",
              "    <tr style=\"text-align: right;\">\n",
              "      <th>uf</th>\n",
              "      <th>Acre</th>\n",
              "      <th>Alagoas</th>\n",
              "      <th>Amapá</th>\n",
              "      <th>Amazonas</th>\n",
              "      <th>Bahia</th>\n",
              "      <th>Ceará</th>\n",
              "      <th>Distrito Federal</th>\n",
              "      <th>Espírito Santo</th>\n",
              "      <th>Goiás</th>\n",
              "      <th>Maranhão</th>\n",
              "      <th>Mato Grosso</th>\n",
              "      <th>Mato Grosso do Sul</th>\n",
              "      <th>Minas Gerais</th>\n",
              "      <th>Paraná</th>\n",
              "      <th>Paraíba</th>\n",
              "      <th>Pará</th>\n",
              "      <th>Pernambuco</th>\n",
              "      <th>Piauí</th>\n",
              "      <th>Rio Grande do Norte</th>\n",
              "      <th>Rio Grande do Sul</th>\n",
              "      <th>Rio de Janeiro</th>\n",
              "      <th>Rondônia</th>\n",
              "      <th>Roraima</th>\n",
              "      <th>Santa Catarina</th>\n",
              "      <th>Sergipe</th>\n",
              "      <th>São Paulo</th>\n",
              "      <th>Tocantins</th>\n",
              "    </tr>\n",
              "    <tr>\n",
              "      <th>mes</th>\n",
              "      <th></th>\n",
              "      <th></th>\n",
              "      <th></th>\n",
              "      <th></th>\n",
              "      <th></th>\n",
              "      <th></th>\n",
              "      <th></th>\n",
              "      <th></th>\n",
              "      <th></th>\n",
              "      <th></th>\n",
              "      <th></th>\n",
              "      <th></th>\n",
              "      <th></th>\n",
              "      <th></th>\n",
              "      <th></th>\n",
              "      <th></th>\n",
              "      <th></th>\n",
              "      <th></th>\n",
              "      <th></th>\n",
              "      <th></th>\n",
              "      <th></th>\n",
              "      <th></th>\n",
              "      <th></th>\n",
              "      <th></th>\n",
              "      <th></th>\n",
              "      <th></th>\n",
              "      <th></th>\n",
              "    </tr>\n",
              "  </thead>\n",
              "  <tbody>\n",
              "    <tr>\n",
              "      <th>2008-02-01</th>\n",
              "      <td>1.74</td>\n",
              "      <td>8.11</td>\n",
              "      <td>1.28</td>\n",
              "      <td>7.93</td>\n",
              "      <td>33.41</td>\n",
              "      <td>27.64</td>\n",
              "      <td>10.22</td>\n",
              "      <td>10.03</td>\n",
              "      <td>18.15</td>\n",
              "      <td>13.45</td>\n",
              "      <td>7.93</td>\n",
              "      <td>8.28</td>\n",
              "      <td>70.30</td>\n",
              "      <td>48.86</td>\n",
              "      <td>10.87</td>\n",
              "      <td>20.13</td>\n",
              "      <td>26.22</td>\n",
              "      <td>9.71</td>\n",
              "      <td>9.11</td>\n",
              "      <td>45.90</td>\n",
              "      <td>44.12</td>\n",
              "      <td>1.94</td>\n",
              "      <td>0.77</td>\n",
              "      <td>24.41</td>\n",
              "      <td>4.64</td>\n",
              "      <td>172.83</td>\n",
              "      <td>5.05</td>\n",
              "    </tr>\n",
              "    <tr>\n",
              "      <th>2008-03-01</th>\n",
              "      <td>2.06</td>\n",
              "      <td>9.21</td>\n",
              "      <td>1.18</td>\n",
              "      <td>8.64</td>\n",
              "      <td>41.30</td>\n",
              "      <td>30.09</td>\n",
              "      <td>11.63</td>\n",
              "      <td>12.26</td>\n",
              "      <td>20.99</td>\n",
              "      <td>14.75</td>\n",
              "      <td>9.42</td>\n",
              "      <td>9.79</td>\n",
              "      <td>79.12</td>\n",
              "      <td>55.61</td>\n",
              "      <td>12.35</td>\n",
              "      <td>22.15</td>\n",
              "      <td>30.72</td>\n",
              "      <td>10.43</td>\n",
              "      <td>10.13</td>\n",
              "      <td>52.93</td>\n",
              "      <td>42.89</td>\n",
              "      <td>1.96</td>\n",
              "      <td>0.88</td>\n",
              "      <td>27.48</td>\n",
              "      <td>5.02</td>\n",
              "      <td>170.48</td>\n",
              "      <td>5.20</td>\n",
              "    </tr>\n",
              "    <tr>\n",
              "      <th>2008-04-01</th>\n",
              "      <td>2.06</td>\n",
              "      <td>10.47</td>\n",
              "      <td>1.40</td>\n",
              "      <td>8.53</td>\n",
              "      <td>42.83</td>\n",
              "      <td>31.38</td>\n",
              "      <td>11.92</td>\n",
              "      <td>12.45</td>\n",
              "      <td>21.05</td>\n",
              "      <td>15.15</td>\n",
              "      <td>9.39</td>\n",
              "      <td>9.00</td>\n",
              "      <td>79.05</td>\n",
              "      <td>56.12</td>\n",
              "      <td>12.68</td>\n",
              "      <td>23.44</td>\n",
              "      <td>30.59</td>\n",
              "      <td>10.23</td>\n",
              "      <td>10.96</td>\n",
              "      <td>51.97</td>\n",
              "      <td>45.30</td>\n",
              "      <td>2.14</td>\n",
              "      <td>0.90</td>\n",
              "      <td>27.81</td>\n",
              "      <td>5.27</td>\n",
              "      <td>170.28</td>\n",
              "      <td>5.34</td>\n",
              "    </tr>\n",
              "    <tr>\n",
              "      <th>2008-05-01</th>\n",
              "      <td>2.23</td>\n",
              "      <td>9.84</td>\n",
              "      <td>1.41</td>\n",
              "      <td>9.08</td>\n",
              "      <td>42.07</td>\n",
              "      <td>31.19</td>\n",
              "      <td>11.90</td>\n",
              "      <td>11.79</td>\n",
              "      <td>19.16</td>\n",
              "      <td>14.54</td>\n",
              "      <td>9.38</td>\n",
              "      <td>9.84</td>\n",
              "      <td>79.27</td>\n",
              "      <td>55.57</td>\n",
              "      <td>13.26</td>\n",
              "      <td>23.86</td>\n",
              "      <td>31.41</td>\n",
              "      <td>10.56</td>\n",
              "      <td>11.03</td>\n",
              "      <td>51.68</td>\n",
              "      <td>43.95</td>\n",
              "      <td>2.28</td>\n",
              "      <td>1.03</td>\n",
              "      <td>28.35</td>\n",
              "      <td>5.37</td>\n",
              "      <td>172.40</td>\n",
              "      <td>5.34</td>\n",
              "    </tr>\n",
              "    <tr>\n",
              "      <th>2008-06-01</th>\n",
              "      <td>2.11</td>\n",
              "      <td>10.29</td>\n",
              "      <td>1.42</td>\n",
              "      <td>8.65</td>\n",
              "      <td>39.91</td>\n",
              "      <td>29.46</td>\n",
              "      <td>11.97</td>\n",
              "      <td>11.89</td>\n",
              "      <td>20.33</td>\n",
              "      <td>14.55</td>\n",
              "      <td>9.45</td>\n",
              "      <td>10.26</td>\n",
              "      <td>79.61</td>\n",
              "      <td>56.09</td>\n",
              "      <td>12.25</td>\n",
              "      <td>23.50</td>\n",
              "      <td>28.95</td>\n",
              "      <td>10.47</td>\n",
              "      <td>10.45</td>\n",
              "      <td>53.76</td>\n",
              "      <td>44.10</td>\n",
              "      <td>2.62</td>\n",
              "      <td>0.94</td>\n",
              "      <td>28.99</td>\n",
              "      <td>4.98</td>\n",
              "      <td>175.42</td>\n",
              "      <td>5.40</td>\n",
              "    </tr>\n",
              "    <tr>\n",
              "      <th>...</th>\n",
              "      <td>...</td>\n",
              "      <td>...</td>\n",
              "      <td>...</td>\n",
              "      <td>...</td>\n",
              "      <td>...</td>\n",
              "      <td>...</td>\n",
              "      <td>...</td>\n",
              "      <td>...</td>\n",
              "      <td>...</td>\n",
              "      <td>...</td>\n",
              "      <td>...</td>\n",
              "      <td>...</td>\n",
              "      <td>...</td>\n",
              "      <td>...</td>\n",
              "      <td>...</td>\n",
              "      <td>...</td>\n",
              "      <td>...</td>\n",
              "      <td>...</td>\n",
              "      <td>...</td>\n",
              "      <td>...</td>\n",
              "      <td>...</td>\n",
              "      <td>...</td>\n",
              "      <td>...</td>\n",
              "      <td>...</td>\n",
              "      <td>...</td>\n",
              "      <td>...</td>\n",
              "      <td>...</td>\n",
              "    </tr>\n",
              "    <tr>\n",
              "      <th>2020-03-01</th>\n",
              "      <td>2.86</td>\n",
              "      <td>16.00</td>\n",
              "      <td>2.29</td>\n",
              "      <td>14.77</td>\n",
              "      <td>70.34</td>\n",
              "      <td>46.40</td>\n",
              "      <td>19.41</td>\n",
              "      <td>26.56</td>\n",
              "      <td>34.56</td>\n",
              "      <td>28.83</td>\n",
              "      <td>14.44</td>\n",
              "      <td>17.36</td>\n",
              "      <td>147.08</td>\n",
              "      <td>114.48</td>\n",
              "      <td>17.61</td>\n",
              "      <td>34.75</td>\n",
              "      <td>59.63</td>\n",
              "      <td>15.32</td>\n",
              "      <td>20.94</td>\n",
              "      <td>84.65</td>\n",
              "      <td>73.59</td>\n",
              "      <td>7.17</td>\n",
              "      <td>2.81</td>\n",
              "      <td>56.71</td>\n",
              "      <td>9.19</td>\n",
              "      <td>276.61</td>\n",
              "      <td>7.03</td>\n",
              "    </tr>\n",
              "    <tr>\n",
              "      <th>2020-04-01</th>\n",
              "      <td>2.47</td>\n",
              "      <td>14.24</td>\n",
              "      <td>1.77</td>\n",
              "      <td>16.33</td>\n",
              "      <td>59.11</td>\n",
              "      <td>43.47</td>\n",
              "      <td>18.12</td>\n",
              "      <td>23.74</td>\n",
              "      <td>27.50</td>\n",
              "      <td>23.94</td>\n",
              "      <td>11.94</td>\n",
              "      <td>15.65</td>\n",
              "      <td>126.33</td>\n",
              "      <td>96.73</td>\n",
              "      <td>15.39</td>\n",
              "      <td>28.71</td>\n",
              "      <td>53.84</td>\n",
              "      <td>11.88</td>\n",
              "      <td>17.32</td>\n",
              "      <td>76.29</td>\n",
              "      <td>68.16</td>\n",
              "      <td>7.42</td>\n",
              "      <td>2.30</td>\n",
              "      <td>51.18</td>\n",
              "      <td>8.40</td>\n",
              "      <td>251.70</td>\n",
              "      <td>6.20</td>\n",
              "    </tr>\n",
              "    <tr>\n",
              "      <th>2020-05-01</th>\n",
              "      <td>2.38</td>\n",
              "      <td>15.25</td>\n",
              "      <td>2.70</td>\n",
              "      <td>19.44</td>\n",
              "      <td>61.76</td>\n",
              "      <td>54.20</td>\n",
              "      <td>21.44</td>\n",
              "      <td>28.61</td>\n",
              "      <td>31.87</td>\n",
              "      <td>32.98</td>\n",
              "      <td>13.98</td>\n",
              "      <td>16.70</td>\n",
              "      <td>136.87</td>\n",
              "      <td>106.10</td>\n",
              "      <td>18.97</td>\n",
              "      <td>41.25</td>\n",
              "      <td>65.42</td>\n",
              "      <td>14.18</td>\n",
              "      <td>19.92</td>\n",
              "      <td>86.08</td>\n",
              "      <td>86.28</td>\n",
              "      <td>8.58</td>\n",
              "      <td>2.91</td>\n",
              "      <td>56.84</td>\n",
              "      <td>8.45</td>\n",
              "      <td>302.86</td>\n",
              "      <td>6.73</td>\n",
              "    </tr>\n",
              "    <tr>\n",
              "      <th>2020-06-01</th>\n",
              "      <td>2.20</td>\n",
              "      <td>14.28</td>\n",
              "      <td>2.70</td>\n",
              "      <td>17.51</td>\n",
              "      <td>65.16</td>\n",
              "      <td>42.15</td>\n",
              "      <td>23.48</td>\n",
              "      <td>27.45</td>\n",
              "      <td>34.44</td>\n",
              "      <td>31.13</td>\n",
              "      <td>14.59</td>\n",
              "      <td>15.84</td>\n",
              "      <td>135.98</td>\n",
              "      <td>92.90</td>\n",
              "      <td>19.67</td>\n",
              "      <td>35.40</td>\n",
              "      <td>68.15</td>\n",
              "      <td>15.38</td>\n",
              "      <td>20.22</td>\n",
              "      <td>89.02</td>\n",
              "      <td>77.60</td>\n",
              "      <td>9.19</td>\n",
              "      <td>3.22</td>\n",
              "      <td>56.50</td>\n",
              "      <td>6.71</td>\n",
              "      <td>299.06</td>\n",
              "      <td>5.02</td>\n",
              "    </tr>\n",
              "    <tr>\n",
              "      <th>2020-07-01</th>\n",
              "      <td>1.16</td>\n",
              "      <td>13.09</td>\n",
              "      <td>2.16</td>\n",
              "      <td>13.36</td>\n",
              "      <td>58.90</td>\n",
              "      <td>30.81</td>\n",
              "      <td>22.23</td>\n",
              "      <td>27.46</td>\n",
              "      <td>33.50</td>\n",
              "      <td>24.37</td>\n",
              "      <td>13.08</td>\n",
              "      <td>12.51</td>\n",
              "      <td>120.47</td>\n",
              "      <td>80.32</td>\n",
              "      <td>15.49</td>\n",
              "      <td>27.62</td>\n",
              "      <td>62.33</td>\n",
              "      <td>18.02</td>\n",
              "      <td>19.59</td>\n",
              "      <td>78.93</td>\n",
              "      <td>71.54</td>\n",
              "      <td>7.41</td>\n",
              "      <td>2.74</td>\n",
              "      <td>51.76</td>\n",
              "      <td>3.31</td>\n",
              "      <td>282.71</td>\n",
              "      <td>4.49</td>\n",
              "    </tr>\n",
              "  </tbody>\n",
              "</table>\n",
              "<p>150 rows × 27 columns</p>\n",
              "</div>"
            ],
            "text/plain": [
              "uf          Acre  Alagoas  Amapá  ...  Sergipe  São Paulo  Tocantins\n",
              "mes                               ...                               \n",
              "2008-02-01  1.74     8.11   1.28  ...     4.64     172.83       5.05\n",
              "2008-03-01  2.06     9.21   1.18  ...     5.02     170.48       5.20\n",
              "2008-04-01  2.06    10.47   1.40  ...     5.27     170.28       5.34\n",
              "2008-05-01  2.23     9.84   1.41  ...     5.37     172.40       5.34\n",
              "2008-06-01  2.11    10.29   1.42  ...     4.98     175.42       5.40\n",
              "...          ...      ...    ...  ...      ...        ...        ...\n",
              "2020-03-01  2.86    16.00   2.29  ...     9.19     276.61       7.03\n",
              "2020-04-01  2.47    14.24   1.77  ...     8.40     251.70       6.20\n",
              "2020-05-01  2.38    15.25   2.70  ...     8.45     302.86       6.73\n",
              "2020-06-01  2.20    14.28   2.70  ...     6.71     299.06       5.02\n",
              "2020-07-01  1.16    13.09   2.16  ...     3.31     282.71       4.49\n",
              "\n",
              "[150 rows x 27 columns]"
            ]
          },
          "metadata": {
            "tags": []
          },
          "execution_count": 6
        }
      ]
    },
    {
      "cell_type": "markdown",
      "metadata": {
        "id": "bu1owSKzgtZT"
      },
      "source": [
        "---\n",
        "\n",
        "## 2.3) Desafio 03: Melhorar o gráfico da distribuição do gráfico:\n",
        "\n",
        "* Escolha apenas alguns estados.\n",
        "* Mude a palete de cores.\n",
        "* Posicione a legenda de forma mais adequada.\n",
        "* Adicione título principal e nos eixos x e y.\n",
        "\n",
        "---"
      ]
    },
    {
      "cell_type": "code",
      "metadata": {
        "id": "d1O22wo4SMFS",
        "colab": {
          "base_uri": "https://localhost:8080/",
          "height": 424
        },
        "outputId": "3e8711d9-3bc0-4ec0-b8a4-315f0b3f943c"
      },
      "source": [
        "plt.figure(figsize=(10,6))\n",
        "estados = ['São Paulo', 'Rio Grande do Sul', 'Rio de Janeiro', 'Bahia']\n",
        "\n",
        "ax = sns.lineplot(data = dados.query(\"uf == @estados\"), \n",
        "                  x=\"mes\", \n",
        "                  y=\"gasto\", \n",
        "                  hue='uf', \n",
        "                  palette=sns.color_palette(\"Paired\", 4))\n",
        "plt.xticks(rotation=30)\n",
        "\n",
        "\n",
        "plt.title(\"Gastos ao longo dos Anos\", fontsize=20)\n",
        "plt.ylabel(\"Gastos (R$)\", fontsize=14)\n",
        "plt.xlabel(\"Mes/Ano\", fontsize=14)\n",
        "\n",
        "\n",
        "from datetime import date\n",
        "data_inicio = date(2008, 2, 1)\n",
        "data_final  = date(2020, 7, 1)\n",
        "\n",
        "\n",
        "plt.ylim(0, 350)\n",
        "plt.xlim(data_inicio, data_final)\n",
        "\n",
        "plt.legend(title='Estados')\n",
        "plt.grid(True, ls=\"--\")\n",
        "plt.show()"
      ],
      "execution_count": 12,
      "outputs": [
        {
          "output_type": "display_data",
          "data": {
            "image/png": "[encoded data removed]",
            "text/plain": [
              "<Figure size 720x432 with 1 Axes>"
            ]
          },
          "metadata": {
            "tags": [],
            "needs_background": "light"
          }
        }
      ]
    },
    {
      "cell_type": "code",
      "metadata": {
        "id": "QWZQ3u4fzZia"
      },
      "source": [
        ""
      ],
      "execution_count": 7,
      "outputs": []
    }
  ]
}