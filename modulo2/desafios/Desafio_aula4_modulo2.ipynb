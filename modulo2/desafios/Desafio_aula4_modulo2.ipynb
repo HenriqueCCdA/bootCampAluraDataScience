{
  "nbformat": 4,
  "nbformat_minor": 0,
  "metadata": {
    "colab": {
      "name": "Desafio_aula2_modulo2.ipynb",
      "provenance": [],
      "toc_visible": true,
      "authorship_tag": "ABX9TyMfZrAMWY11CQArzSDbX0p7",
      "include_colab_link": true
    },
    "kernelspec": {
      "name": "python3",
      "display_name": "Python 3"
    },
    "language_info": {
      "name": "python"
    }
  },
  "cells": [
    {
      "cell_type": "markdown",
      "metadata": {
        "id": "view-in-github",
        "colab_type": "text"
      },
      "source": [
        "<a href=\"https://colab.research.google.com/github/HenriqueCCdA/bootCampAluraDataScience/blob/master/modulo2/desafios/Desafio_aula4_modulo2.ipynb\" target=\"_parent\"><img src=\"https://colab.research.google.com/assets/colab-badge.svg\" alt=\"Open In Colab\"/></a>"
      ]
    },
    {
      "cell_type": "markdown",
      "metadata": {
        "id": "JMMl1AcQRpD6"
      },
      "source": [
        "# 1) Pre-analise"
      ]
    },
    {
      "cell_type": "markdown",
      "metadata": {
        "id": "qul9n8erRP-T"
      },
      "source": [
        "---\n",
        "## 1.1) Funções de apoio\n",
        "---"
      ]
    },
    {
      "cell_type": "markdown",
      "metadata": {
        "id": "pt8d3-oGRXzz"
      },
      "source": [
        "---"
      ]
    },
    {
      "cell_type": "markdown",
      "metadata": {
        "id": "i7dqEDYjQ_xG"
      },
      "source": [
        "---\n",
        "## 1.2) Bibliotecas utilizadas\n",
        "\n",
        "* searborn\n",
        "* pandas\n",
        "* matplotlib\n",
        "* io\n",
        "---"
      ]
    },
    {
      "cell_type": "code",
      "metadata": {
        "id": "NhXE5g0ogP7v"
      },
      "source": [
        "import seaborn as sns\n",
        "import pandas as pd\n",
        "import matplotlib.pyplot as plt\n",
        "import matplotlib.ticker as ticker\n",
        "from io import StringIO\n",
        "\n",
        "# pandas configuracao\n",
        "pd.options.display.float_format  =\"{:,.2f}\".format"
      ],
      "execution_count": null,
      "outputs": []
    },
    {
      "cell_type": "markdown",
      "metadata": {
        "id": "oJKsOCEmROXr"
      },
      "source": [
        "---"
      ]
    },
    {
      "cell_type": "markdown",
      "metadata": {
        "id": "8TE5Sa0SRgjK"
      },
      "source": [
        "---\n",
        "## 1.3) Preparação dos dados \n",
        "---"
      ]
    },
    {
      "cell_type": "markdown",
      "metadata": {
        "id": "vuyzBdUgR026"
      },
      "source": [
        "# 2) Desafios"
      ]
    },
    {
      "cell_type": "markdown",
      "metadata": {
        "id": "iHcgEolzgYXd"
      },
      "source": [
        "---\n",
        "## 2.1) Desafio 01: Estudar a documentação DateTime do Python, escolha dois métodos para se aprofundar faça alguns testes e compartilhe o conhecimento adquirido com seus colegas no Discord.\n",
        "---\n",
        "\n"
      ]
    },
    {
      "cell_type": "markdown",
      "metadata": {
        "id": "8htaqcrfgfy7"
      },
      "source": [
        "---\n",
        "## 2.2) Desafio 02: Aprendemos a usar o Melt para desnormalizar sua base de dados, agora o desafio é realizar o processo contrário, voltar atrás partindo do mensal_aberto chegando no mensal.\n",
        "---"
      ]
    },
    {
      "cell_type": "markdown",
      "metadata": {
        "id": "bu1owSKzgtZT"
      },
      "source": [
        "---\n",
        "\n",
        "## 2.3) Desafio 03: Melhorar o gráfico da distribuição do gráfico:\n",
        "\n",
        "* Escolha apenas alguns estados.\n",
        "* Mude a palete de cores.\n",
        "* Posicione a legenda de forma mais adequada.\n",
        "* Adicione título principal e nos eixos x e y.\n",
        "\n",
        "---"
      ]
    },
    {
      "cell_type": "code",
      "metadata": {
        "id": "d1O22wo4SMFS"
      },
      "source": [
        ""
      ],
      "execution_count": null,
      "outputs": []
    }
  ]
}