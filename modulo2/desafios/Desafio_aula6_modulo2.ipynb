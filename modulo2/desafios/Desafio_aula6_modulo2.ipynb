{
  "nbformat": 4,
  "nbformat_minor": 0,
  "metadata": {
    "colab": {
      "name": "Desafio_aula6_modulo2.ipynb",
      "provenance": [],
      "toc_visible": true,
      "authorship_tag": "ABX9TyOQRvlUa0UsL8iyPC18H7jG",
      "include_colab_link": true
    },
    "kernelspec": {
      "name": "python3",
      "display_name": "Python 3"
    },
    "language_info": {
      "name": "python"
    }
  },
  "cells": [
    {
      "cell_type": "markdown",
      "metadata": {
        "id": "view-in-github",
        "colab_type": "text"
      },
      "source": [
        "<a href=\"https://colab.research.google.com/github/HenriqueCCdA/bootCampAluraDataScience/blob/master/modulo2/desafios/Desafio_aula6_modulo2.ipynb\" target=\"_parent\"><img src=\"https://colab.research.google.com/assets/colab-badge.svg\" alt=\"Open In Colab\"/></a>"
      ]
    },
    {
      "cell_type": "markdown",
      "metadata": {
        "id": "JMMl1AcQRpD6"
      },
      "source": [
        "# 1) Pre-analise"
      ]
    },
    {
      "cell_type": "markdown",
      "metadata": {
        "id": "qul9n8erRP-T"
      },
      "source": [
        "---\n",
        "## 1.1) Funções de apoio\n",
        "---"
      ]
    },
    {
      "cell_type": "markdown",
      "metadata": {
        "id": "pt8d3-oGRXzz"
      },
      "source": [
        "---"
      ]
    },
    {
      "cell_type": "markdown",
      "metadata": {
        "id": "i7dqEDYjQ_xG"
      },
      "source": [
        "---\n",
        "## 1.2) Bibliotecas utilizadas\n",
        "\n",
        "* searborn\n",
        "* pandas\n",
        "* matplotlib\n",
        "* datatime\n",
        "---"
      ]
    },
    {
      "cell_type": "code",
      "metadata": {
        "id": "NhXE5g0ogP7v"
      },
      "source": [
        "import seaborn as sns\n",
        "import pandas as pd\n",
        "import matplotlib.pyplot as plt\n",
        "\n",
        "# pandas configuracao\n",
        "pd.options.display.float_format  =\"{:,.2f}\".format"
      ],
      "execution_count": null,
      "outputs": []
    },
    {
      "cell_type": "markdown",
      "metadata": {
        "id": "oJKsOCEmROXr"
      },
      "source": [
        "---"
      ]
    },
    {
      "cell_type": "markdown",
      "metadata": {
        "id": "8TE5Sa0SRgjK"
      },
      "source": [
        "---\n",
        "## 1.3) Preparação dos dados \n",
        "---"
      ]
    },
    {
      "cell_type": "code",
      "metadata": {
        "id": "LkTcS-ZQp-XI",
        "colab": {
          "base_uri": "https://localhost:8080/",
          "height": 204
        },
        "outputId": "bbd8a2ba-427a-4a9d-d348-a9817599b531"
      },
      "source": [
        "uri = \"https://raw.githubusercontent.com/HenriqueCCdA/bootCampAluraDataScience/master/modulo2/desafios/mensal_aberto.csv\"\n",
        "\n",
        "mensal_aberto = pd.read_csv(uri, usecols=[\"mes\", \"uf\", \"gasto\"])\n",
        "mensal_aberto.columns = [\"ano_mes_dia\", \"uf\", \"gasto\"]\n",
        "\n",
        "mensal_aberto.head()"
      ],
      "execution_count": null,
      "outputs": [
        {
          "output_type": "execute_result",
          "data": {
            "text/html": [
              "<div>\n",
              "<style scoped>\n",
              "    .dataframe tbody tr th:only-of-type {\n",
              "        vertical-align: middle;\n",
              "    }\n",
              "\n",
              "    .dataframe tbody tr th {\n",
              "        vertical-align: top;\n",
              "    }\n",
              "\n",
              "    .dataframe thead th {\n",
              "        text-align: right;\n",
              "    }\n",
              "</style>\n",
              "<table border=\"1\" class=\"dataframe\">\n",
              "  <thead>\n",
              "    <tr style=\"text-align: right;\">\n",
              "      <th></th>\n",
              "      <th>ano_mes_dia</th>\n",
              "      <th>uf</th>\n",
              "      <th>gasto</th>\n",
              "    </tr>\n",
              "  </thead>\n",
              "  <tbody>\n",
              "    <tr>\n",
              "      <th>0</th>\n",
              "      <td>2008-02-01</td>\n",
              "      <td>São Paulo</td>\n",
              "      <td>172.83</td>\n",
              "    </tr>\n",
              "    <tr>\n",
              "      <th>1</th>\n",
              "      <td>2008-03-01</td>\n",
              "      <td>São Paulo</td>\n",
              "      <td>170.48</td>\n",
              "    </tr>\n",
              "    <tr>\n",
              "      <th>2</th>\n",
              "      <td>2008-04-01</td>\n",
              "      <td>São Paulo</td>\n",
              "      <td>170.28</td>\n",
              "    </tr>\n",
              "    <tr>\n",
              "      <th>3</th>\n",
              "      <td>2008-05-01</td>\n",
              "      <td>São Paulo</td>\n",
              "      <td>172.40</td>\n",
              "    </tr>\n",
              "    <tr>\n",
              "      <th>4</th>\n",
              "      <td>2008-06-01</td>\n",
              "      <td>São Paulo</td>\n",
              "      <td>175.42</td>\n",
              "    </tr>\n",
              "  </tbody>\n",
              "</table>\n",
              "</div>"
            ],
            "text/plain": [
              "  ano_mes_dia         uf  gasto\n",
              "0  2008-02-01  São Paulo 172.83\n",
              "1  2008-03-01  São Paulo 170.48\n",
              "2  2008-04-01  São Paulo 170.28\n",
              "3  2008-05-01  São Paulo 172.40\n",
              "4  2008-06-01  São Paulo 175.42"
            ]
          },
          "metadata": {
            "tags": []
          },
          "execution_count": 41
        }
      ]
    },
    {
      "cell_type": "code",
      "metadata": {
        "id": "yCD054zJuent"
      },
      "source": [
        "mensal_aberto[\"ano_mes_dia\"] = mensal_aberto[\"ano_mes_dia\"].astype('datetime64[ns]')"
      ],
      "execution_count": null,
      "outputs": []
    },
    {
      "cell_type": "code",
      "metadata": {
        "colab": {
          "base_uri": "https://localhost:8080/"
        },
        "id": "YU-hrOM_eXLW",
        "outputId": "b91c73e3-4c94-47b5-b490-df0577a3caa9"
      },
      "source": [
        "mensal_aberto.info()"
      ],
      "execution_count": null,
      "outputs": [
        {
          "output_type": "stream",
          "text": [
            "<class 'pandas.core.frame.DataFrame'>\n",
            "RangeIndex: 4050 entries, 0 to 4049\n",
            "Data columns (total 3 columns):\n",
            " #   Column       Non-Null Count  Dtype         \n",
            "---  ------       --------------  -----         \n",
            " 0   ano_mes_dia  4050 non-null   datetime64[ns]\n",
            " 1   uf           4050 non-null   object        \n",
            " 2   gasto        4050 non-null   float64       \n",
            "dtypes: datetime64[ns](1), float64(1), object(1)\n",
            "memory usage: 95.0+ KB\n"
          ],
          "name": "stdout"
        }
      ]
    },
    {
      "cell_type": "code",
      "metadata": {
        "id": "zJTc0AnahsO2"
      },
      "source": [
        "dias_por_mes ={ 1: 31, 2: 28, 3: 31, 4: 30, 5: 31, 6: 30,\n",
        "                7: 31, 8: 30, 9: 30,10: 31,11: 30,12: 31}"
      ],
      "execution_count": null,
      "outputs": []
    },
    {
      "cell_type": "code",
      "metadata": {
        "colab": {
          "base_uri": "https://localhost:8080/",
          "height": 235
        },
        "id": "a9h9usrFgP9A",
        "outputId": "bca9d912-0374-4288-fa57-2f61fbba4141"
      },
      "source": [
        "mensal_aberto['mes'] = mensal_aberto['ano_mes_dia'].dt.month\n",
        "mensal_aberto['ano'] = mensal_aberto['ano_mes_dia'].dt.year\n",
        "mensal_aberto['diario'] = mensal_aberto['gasto'] / mensal_aberto['mes'].map(dias_por_mes)\n",
        "estado_a_analisar = mensal_aberto.query(\"uf == 'São Paulo'\")\n",
        "gastos_por_ano = estado_a_analisar.groupby(\"ano\").sum()\n",
        "gastos_por_ano.head()"
      ],
      "execution_count": null,
      "outputs": [
        {
          "output_type": "execute_result",
          "data": {
            "text/html": [
              "<div>\n",
              "<style scoped>\n",
              "    .dataframe tbody tr th:only-of-type {\n",
              "        vertical-align: middle;\n",
              "    }\n",
              "\n",
              "    .dataframe tbody tr th {\n",
              "        vertical-align: top;\n",
              "    }\n",
              "\n",
              "    .dataframe thead th {\n",
              "        text-align: right;\n",
              "    }\n",
              "</style>\n",
              "<table border=\"1\" class=\"dataframe\">\n",
              "  <thead>\n",
              "    <tr style=\"text-align: right;\">\n",
              "      <th></th>\n",
              "      <th>gasto</th>\n",
              "      <th>mes</th>\n",
              "      <th>diario</th>\n",
              "    </tr>\n",
              "    <tr>\n",
              "      <th>ano</th>\n",
              "      <th></th>\n",
              "      <th></th>\n",
              "      <th></th>\n",
              "    </tr>\n",
              "  </thead>\n",
              "  <tbody>\n",
              "    <tr>\n",
              "      <th>2008</th>\n",
              "      <td>1,960.23</td>\n",
              "      <td>77</td>\n",
              "      <td>64.79</td>\n",
              "    </tr>\n",
              "    <tr>\n",
              "      <th>2009</th>\n",
              "      <td>2,489.03</td>\n",
              "      <td>78</td>\n",
              "      <td>82.05</td>\n",
              "    </tr>\n",
              "    <tr>\n",
              "      <th>2010</th>\n",
              "      <td>2,696.62</td>\n",
              "      <td>78</td>\n",
              "      <td>88.89</td>\n",
              "    </tr>\n",
              "    <tr>\n",
              "      <th>2011</th>\n",
              "      <td>2,794.55</td>\n",
              "      <td>78</td>\n",
              "      <td>92.17</td>\n",
              "    </tr>\n",
              "    <tr>\n",
              "      <th>2012</th>\n",
              "      <td>2,873.97</td>\n",
              "      <td>78</td>\n",
              "      <td>94.74</td>\n",
              "    </tr>\n",
              "  </tbody>\n",
              "</table>\n",
              "</div>"
            ],
            "text/plain": [
              "        gasto  mes  diario\n",
              "ano                       \n",
              "2008 1,960.23   77   64.79\n",
              "2009 2,489.03   78   82.05\n",
              "2010 2,696.62   78   88.89\n",
              "2011 2,794.55   78   92.17\n",
              "2012 2,873.97   78   94.74"
            ]
          },
          "metadata": {
            "tags": []
          },
          "execution_count": 96
        }
      ]
    },
    {
      "cell_type": "markdown",
      "metadata": {
        "id": "vuyzBdUgR026"
      },
      "source": [
        "# 2) Desafios"
      ]
    },
    {
      "cell_type": "markdown",
      "metadata": {
        "id": "iHcgEolzgYXd"
      },
      "source": [
        "---\n",
        "## 2.1) Desafio 01: Reordenar as cores pelo valor do eixo y.\n",
        "---\n",
        "\n"
      ]
    },
    {
      "cell_type": "code",
      "metadata": {
        "colab": {
          "base_uri": "https://localhost:8080/",
          "height": 411
        },
        "id": "rHaR1zdNdZRg",
        "outputId": "d5d94153-b80f-48f4-88d8-34bc747bb9f6"
      },
      "source": [
        "plt.figure(figsize=(10,6))\n",
        "\n",
        "sns.barplot(data=gastos_por_ano, x=gastos_por_ano.index, y=\"gasto\", hue=\"gasto\", dodge=False, palette=sns.color_palette(\"rocket_r\", 13))\n",
        "plt.legend('')"
      ],
      "execution_count": null,
      "outputs": [
        {
          "output_type": "execute_result",
          "data": {
            "text/plain": [
              "<matplotlib.legend.Legend at 0x7fb4e94106d0>"
            ]
          },
          "metadata": {
            "tags": []
          },
          "execution_count": 123
        },
        {
          "output_type": "display_data",
          "data": {
            "image/png": "[encoded data removed]",
            "text/plain": [
              "<Figure size 720x432 with 1 Axes>"
            ]
          },
          "metadata": {
            "tags": []
          }
        }
      ]
    },
    {
      "cell_type": "code",
      "metadata": {
        "id": "DF5pwhsHu42T"
      },
      "source": [
        ""
      ],
      "execution_count": null,
      "outputs": []
    }
  ]
}