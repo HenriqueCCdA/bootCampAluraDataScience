{
  "nbformat": 4,
  "nbformat_minor": 0,
  "metadata": {
    "colab": {
      "name": "Desafio_aula2_modulo2.ipynb",
      "provenance": [],
      "toc_visible": true,
      "authorship_tag": "ABX9TyM7CgBmRO586ahAIgD26rKE",
      "include_colab_link": true
    },
    "kernelspec": {
      "name": "python3",
      "display_name": "Python 3"
    },
    "language_info": {
      "name": "python"
    }
  },
  "cells": [
    {
      "cell_type": "markdown",
      "metadata": {
        "id": "view-in-github",
        "colab_type": "text"
      },
      "source": [
        "<a href=\"https://colab.research.google.com/github/HenriqueCCdA/bootCampAluraDataScience/blob/master/modulo2/desafios/Desafio_aula2_modulo2.ipynb\" target=\"_parent\"><img src=\"https://colab.research.google.com/assets/colab-badge.svg\" alt=\"Open In Colab\"/></a>"
      ]
    },
    {
      "cell_type": "markdown",
      "metadata": {
        "id": "JMMl1AcQRpD6"
      },
      "source": [
        "# 1) Pre-analise"
      ]
    },
    {
      "cell_type": "markdown",
      "metadata": {
        "id": "qul9n8erRP-T"
      },
      "source": [
        "---\n",
        "## 1.1) Funções de apoio\n",
        "---"
      ]
    },
    {
      "cell_type": "code",
      "metadata": {
        "id": "mciLWxPuhjL5"
      },
      "source": [
        "def tratamento_dados_pop(pop):\n",
        "  \"\"\"\n",
        "  Trata as tabela da populcao\n",
        "  -----------------------------------------------------------------------------\n",
        "  @param pop - Tabela da populacao nao tratada\n",
        "  ----------------------------------------------------------------------------\n",
        "  @return Tabela da populacao tratada\n",
        "  \"\"\"\n",
        "  cpop = pop.copy()\n",
        "\n",
        "  cpop = cpop.dropna()\n",
        "\n",
        "  cpop[\"populacao\"] = cpop[\"População\"].str.replace(\" \", \"\").astype(int)\n",
        "  cpop[\"uf\"] = cpop[\"Unidade federativa\"]\n",
        "  cpop =  cpop[[\"populacao\", \"uf\"]].set_index(\"uf\")\n",
        "\n",
        "  cpop.index = cpop.index.str.strip()\n",
        "  \n",
        "  return cpop"
      ],
      "execution_count": null,
      "outputs": []
    },
    {
      "cell_type": "code",
      "metadata": {
        "id": "4lFrPQBjEDPJ"
      },
      "source": [
        "def tratamento_dados_gastos(pop):\n",
        "  \"\"\"\n",
        "  Trata as tabela da populcao\n",
        "  -----------------------------------------------------------------------------\n",
        "  @param pop - Tabela da populacao nao tratada\n",
        "  ----------------------------------------------------------------------------\n",
        "  @return Tabela da populacao tratada\n",
        "  \"\"\"\n",
        "  cpop = pop.copy()\n",
        "\n",
        "  cpop = cpop.dropna()\n",
        "\n",
        "  cpop[\"populacao\"] = cpop[\"População\"].str.replace(\" \", \"\").astype(int)\n",
        "  cpop[\"uf\"] = cpop[\"Unidade federativa\"]\n",
        "  cpop =  cpop[[\"populacao\", \"uf\"]].set_index(\"uf\")\n",
        "\n",
        "  cpop.index = cpop.index.str.strip()\n",
        "\n",
        "  return cpop"
      ],
      "execution_count": null,
      "outputs": []
    },
    {
      "cell_type": "code",
      "metadata": {
        "id": "CRrqGIKyDOMt"
      },
      "source": [
        "def tratamento_dados(dados):\n",
        "  dados_usaveis = dados.select_dtypes(float).drop(\"Total\", axis=1)\n",
        "  dados_usaveis.index = dados_usaveis.index.str[3:]\n",
        "  soma = dados_usaveis.sum(axis=1)\n",
        "  dados_usaveis[\"Total\"] = dados_usaveis.sum(axis=1)\n",
        "\n",
        "  ordenado_por_total = dados_usaveis.sort_values(\"Total\", ascending=False)\n",
        "  ordenado_por_total = ordenado_por_total.drop(\"Total\", axis=1)\n",
        "\n",
        "  return ordenado_por_total"
      ],
      "execution_count": null,
      "outputs": []
    },
    {
      "cell_type": "code",
      "metadata": {
        "id": "VuVe3_rZi4Ua"
      },
      "source": [
        "def gastos_mes_ordenado(mes, ordenado_por_total):\n",
        "  gastos_do_ultimo_mes = ordenado_por_total[mes]\n",
        "  return gastos_do_ultimo_mes.sort_values(ascending=False)"
      ],
      "execution_count": null,
      "outputs": []
    },
    {
      "cell_type": "markdown",
      "metadata": {
        "id": "pt8d3-oGRXzz"
      },
      "source": [
        "---"
      ]
    },
    {
      "cell_type": "markdown",
      "metadata": {
        "id": "i7dqEDYjQ_xG"
      },
      "source": [
        "---\n",
        "## 1.2) Bibliotecas utilizadas\n",
        "\n",
        "* searborn\n",
        "* pandas\n",
        "* matplotlib\n",
        "* io\n",
        "---"
      ]
    },
    {
      "cell_type": "code",
      "metadata": {
        "id": "NhXE5g0ogP7v"
      },
      "source": [
        "import seaborn as sns\n",
        "import pandas as pd\n",
        "import matplotlib.pyplot as plt\n",
        "import matplotlib.ticker as ticker\n",
        "from io import StringIO\n",
        "\n",
        "# pandas configuracao\n",
        "pd.options.display.float_format  =\"{:,.2f}\".format"
      ],
      "execution_count": null,
      "outputs": []
    },
    {
      "cell_type": "markdown",
      "metadata": {
        "id": "oJKsOCEmROXr"
      },
      "source": [
        "---"
      ]
    },
    {
      "cell_type": "markdown",
      "metadata": {
        "id": "8TE5Sa0SRgjK"
      },
      "source": [
        "---\n",
        "## 1.3) Preparação dos dados \n",
        "---"
      ]
    },
    {
      "cell_type": "code",
      "metadata": {
        "id": "hLI29vW3hJs9",
        "colab": {
          "base_uri": "https://localhost:8080/",
          "height": 235
        },
        "outputId": "dd1500f5-5b98-4691-bc4e-f543d9628377"
      },
      "source": [
        "uri = \"https://raw.githubusercontent.com/alura-cursos/agendamento-hospitalar/main/dados/A160324189_28_143_208.csv\"\n",
        "\n",
        "dados = pd.read_csv(uri, \n",
        "                    encoding=\"ISO-8859-1\",\n",
        "                    skiprows = 3, sep=\";\", \n",
        "                    skipfooter=12,\n",
        "                    thousands=\".\",\n",
        "                    decimal=\",\",\n",
        "                    engine='python',\n",
        "                    index_col = \"Unidade da Federação\")\n",
        "\n",
        "gastos_ordenado_por_total = tratamento_dados(dados)\n",
        "gastos_ordenado_por_total.head().iloc[:,[0,1,-2,-1]]"
      ],
      "execution_count": null,
      "outputs": [
        {
          "output_type": "execute_result",
          "data": {
            "text/html": [
              "<div>\n",
              "<style scoped>\n",
              "    .dataframe tbody tr th:only-of-type {\n",
              "        vertical-align: middle;\n",
              "    }\n",
              "\n",
              "    .dataframe tbody tr th {\n",
              "        vertical-align: top;\n",
              "    }\n",
              "\n",
              "    .dataframe thead th {\n",
              "        text-align: right;\n",
              "    }\n",
              "</style>\n",
              "<table border=\"1\" class=\"dataframe\">\n",
              "  <thead>\n",
              "    <tr style=\"text-align: right;\">\n",
              "      <th></th>\n",
              "      <th>2007/Ago</th>\n",
              "      <th>2007/Set</th>\n",
              "      <th>2020/Jun</th>\n",
              "      <th>2020/Jul</th>\n",
              "    </tr>\n",
              "    <tr>\n",
              "      <th>Unidade da Federação</th>\n",
              "      <th></th>\n",
              "      <th></th>\n",
              "      <th></th>\n",
              "      <th></th>\n",
              "    </tr>\n",
              "  </thead>\n",
              "  <tbody>\n",
              "    <tr>\n",
              "      <th>São Paulo</th>\n",
              "      <td>1,665,349.90</td>\n",
              "      <td>4,434,168.64</td>\n",
              "      <td>299,060,851.62</td>\n",
              "      <td>282,709,570.31</td>\n",
              "    </tr>\n",
              "    <tr>\n",
              "      <th>Minas Gerais</th>\n",
              "      <td>971,394.37</td>\n",
              "      <td>2,861,781.50</td>\n",
              "      <td>135,977,571.87</td>\n",
              "      <td>120,467,187.34</td>\n",
              "    </tr>\n",
              "    <tr>\n",
              "      <th>Paraná</th>\n",
              "      <td>554,800.22</td>\n",
              "      <td>1,431,708.01</td>\n",
              "      <td>92,901,461.36</td>\n",
              "      <td>80,320,852.69</td>\n",
              "    </tr>\n",
              "    <tr>\n",
              "      <th>Rio Grande do Sul</th>\n",
              "      <td>1,049,252.33</td>\n",
              "      <td>3,182,913.14</td>\n",
              "      <td>89,019,478.82</td>\n",
              "      <td>78,929,703.81</td>\n",
              "    </tr>\n",
              "    <tr>\n",
              "      <th>Rio de Janeiro</th>\n",
              "      <td>469,469.34</td>\n",
              "      <td>921,646.57</td>\n",
              "      <td>77,604,925.21</td>\n",
              "      <td>71,540,227.33</td>\n",
              "    </tr>\n",
              "  </tbody>\n",
              "</table>\n",
              "</div>"
            ],
            "text/plain": [
              "                         2007/Ago     2007/Set       2020/Jun       2020/Jul\n",
              "Unidade da Federação                                                        \n",
              "São Paulo            1,665,349.90 4,434,168.64 299,060,851.62 282,709,570.31\n",
              "Minas Gerais           971,394.37 2,861,781.50 135,977,571.87 120,467,187.34\n",
              "Paraná                 554,800.22 1,431,708.01  92,901,461.36  80,320,852.69\n",
              "Rio Grande do Sul    1,049,252.33 3,182,913.14  89,019,478.82  78,929,703.81\n",
              "Rio de Janeiro         469,469.34   921,646.57  77,604,925.21  71,540,227.33"
            ]
          },
          "metadata": {
            "tags": []
          },
          "execution_count": 6
        }
      ]
    },
    {
      "cell_type": "code",
      "metadata": {
        "id": "zPv258rkj_03",
        "colab": {
          "base_uri": "https://localhost:8080/"
        },
        "outputId": "1d186905-bf3e-4424-ea46-58e470087e49"
      },
      "source": [
        "mes = \"2020/Jul\"\n",
        "gastos_2020_Jul = gastos_mes_ordenado(mes, gastos_ordenado_por_total)\n",
        "gastos_2020_Jul.head()"
      ],
      "execution_count": null,
      "outputs": [
        {
          "output_type": "execute_result",
          "data": {
            "text/plain": [
              "Unidade da Federação\n",
              "São Paulo           282,709,570.31\n",
              "Minas Gerais        120,467,187.34\n",
              "Paraná               80,320,852.69\n",
              "Rio Grande do Sul    78,929,703.81\n",
              "Rio de Janeiro       71,540,227.33\n",
              "Name: 2020/Jul, dtype: float64"
            ]
          },
          "metadata": {
            "tags": []
          },
          "execution_count": 15
        }
      ]
    },
    {
      "cell_type": "code",
      "metadata": {
        "colab": {
          "base_uri": "https://localhost:8080/"
        },
        "id": "KpGlPWp_HkWR",
        "outputId": "b22ba494-25b4-47de-ac36-64480b665d38"
      },
      "source": [
        "mes = \"2020/Jun\"\n",
        "gastos_2020_Jun = gastos_mes_ordenado(mes, gastos_ordenado_por_total)\n",
        "gastos_2020_Jun.head()"
      ],
      "execution_count": null,
      "outputs": [
        {
          "output_type": "execute_result",
          "data": {
            "text/plain": [
              "Unidade da Federação\n",
              "São Paulo           299,060,851.62\n",
              "Minas Gerais        135,977,571.87\n",
              "Paraná               92,901,461.36\n",
              "Rio Grande do Sul    89,019,478.82\n",
              "Rio de Janeiro       77,604,925.21\n",
              "Name: 2020/Jun, dtype: float64"
            ]
          },
          "metadata": {
            "tags": []
          },
          "execution_count": 16
        }
      ]
    },
    {
      "cell_type": "code",
      "metadata": {
        "id": "lejXjoN8hU7S"
      },
      "source": [
        "dados_da_populacao = \"\"\"Posição\tUnidade federativa\tPopulação\t% da pop. total\tPaís comparável\n",
        "(habitantes)\n",
        "\n",
        "1\t São Paulo\t46 289 333\t21,9%\tFlag of Spain.svg Espanha (46 439 864)\n",
        "2\t Minas Gerais\t21 292 666\t10,1%\t Sri Lanka (20 675 000)\n",
        "3\t Rio de Janeiro\t17 366 189\t8,2%\t Países Baixos (16 922 900)\n",
        "4\t Bahia\t14 930 634\t7,1%\t Chade (14 037 000)\n",
        "5\t Paraná\t11 516 840\t5,4%\t Bolívia (11 410 651)\n",
        "6\t Rio Grande do Sul\t11 422 973\t5,4%\t Bélgica (11 250 659)\n",
        "7\t Pernambuco\t9 616 621\t4,5%\t Bielorrússia (9 485 300)\n",
        "8\t Ceará\t9 187 103\t4,3%\t Emirados Árabes Unidos (9 157 000)\n",
        "9\t Pará\t8 690 745\t4,1%\t Áustria (8 602 112)\n",
        "10\t Santa Catarina\t7 252 502\t3,4%\t Sérvia (7 114 393)\n",
        "11\t Maranhão\t7 114 598\t3,4%\t Paraguai (7 003 406)\n",
        "12\t Goiás\t7 113 540\t3,4%\t Paraguai (7 003 406)\n",
        "13\t Amazonas\t4 207 714\t2,0%\t Líbano (4 168 000)\n",
        "14\t Espírito Santo\t4 064 052\t1,9%\t Líbano (4 168 000)\n",
        "15\t Paraíba\t4 039 277\t1,9%\t Líbano (4 168 000)\n",
        "16\t Rio Grande do Norte\t3 534 165\t1,7%\t Uruguai (3 415 866)\n",
        "17\t Mato Grosso\t3 526 220\t1,7%\t Uruguai (3 415 866)\n",
        "18\t Alagoas\t3 351 543\t1,6%\t Uruguai (3 415 866)\n",
        "19\t Piauí\t3 281 480\t1,6%\t Kuwait (3 268 431)\n",
        "20\t Distrito Federal\t3 055 149\t1,4%\t Lituânia (2 900 787)\n",
        "21\t Mato Grosso do Sul\t2 809 394\t1,3%\t Jamaica (2 717 991)\n",
        "22\t Sergipe\t2 318 822\t1,1%\t Namíbia (2 280 700)\n",
        "23\t Rondônia\t1 796 460\t0,8%\t Gabão (1 725 000)\n",
        "24\t Tocantins\t1 590 248\t0,7%\t Bahrein (1 359 800)\n",
        "25\t Acre\t894 470\t0,4%\t Fiji (859 178)\n",
        "26\t Amapá\t861 773\t0,4%\t Fiji (859 178)\n",
        "27\t Roraima\t631 181\t0,3%\t Luxemburgo (562 958)\n",
        "\"\"\""
      ],
      "execution_count": null,
      "outputs": []
    },
    {
      "cell_type": "code",
      "metadata": {
        "id": "xF34vAujDuC6"
      },
      "source": [
        "dados_da_populacao_io = StringIO(dados_da_populacao)\n",
        "populacao = pd.read_csv(dados_da_populacao_io, sep=\"\\t\")"
      ],
      "execution_count": null,
      "outputs": []
    },
    {
      "cell_type": "code",
      "metadata": {
        "colab": {
          "base_uri": "https://localhost:8080/",
          "height": 235
        },
        "id": "V-t5yTSRGNSf",
        "outputId": "79fd09d2-c5b3-47a6-cb5b-fa9dacefecff"
      },
      "source": [
        "populacao_tratada = tratamento_dados_pop(populacao)\n",
        "populacao_tratada.head()"
      ],
      "execution_count": null,
      "outputs": [
        {
          "output_type": "execute_result",
          "data": {
            "text/html": [
              "<div>\n",
              "<style scoped>\n",
              "    .dataframe tbody tr th:only-of-type {\n",
              "        vertical-align: middle;\n",
              "    }\n",
              "\n",
              "    .dataframe tbody tr th {\n",
              "        vertical-align: top;\n",
              "    }\n",
              "\n",
              "    .dataframe thead th {\n",
              "        text-align: right;\n",
              "    }\n",
              "</style>\n",
              "<table border=\"1\" class=\"dataframe\">\n",
              "  <thead>\n",
              "    <tr style=\"text-align: right;\">\n",
              "      <th></th>\n",
              "      <th>populacao</th>\n",
              "    </tr>\n",
              "    <tr>\n",
              "      <th>uf</th>\n",
              "      <th></th>\n",
              "    </tr>\n",
              "  </thead>\n",
              "  <tbody>\n",
              "    <tr>\n",
              "      <th>São Paulo</th>\n",
              "      <td>46289333</td>\n",
              "    </tr>\n",
              "    <tr>\n",
              "      <th>Minas Gerais</th>\n",
              "      <td>21292666</td>\n",
              "    </tr>\n",
              "    <tr>\n",
              "      <th>Rio de Janeiro</th>\n",
              "      <td>17366189</td>\n",
              "    </tr>\n",
              "    <tr>\n",
              "      <th>Bahia</th>\n",
              "      <td>14930634</td>\n",
              "    </tr>\n",
              "    <tr>\n",
              "      <th>Paraná</th>\n",
              "      <td>11516840</td>\n",
              "    </tr>\n",
              "  </tbody>\n",
              "</table>\n",
              "</div>"
            ],
            "text/plain": [
              "                populacao\n",
              "uf                       \n",
              "São Paulo        46289333\n",
              "Minas Gerais     21292666\n",
              "Rio de Janeiro   17366189\n",
              "Bahia            14930634\n",
              "Paraná           11516840"
            ]
          },
          "metadata": {
            "tags": []
          },
          "execution_count": 19
        }
      ]
    },
    {
      "cell_type": "code",
      "metadata": {
        "colab": {
          "base_uri": "https://localhost:8080/",
          "height": 235
        },
        "id": "HVBylX5uiOTD",
        "outputId": "3ad1acbf-882d-41a9-a0d1-582c9eef074e"
      },
      "source": [
        "gastos_e_populacao = populacao_tratada.join(gastos_2020_Jul)\n",
        "gastos_e_populacao.head()"
      ],
      "execution_count": null,
      "outputs": [
        {
          "output_type": "execute_result",
          "data": {
            "text/html": [
              "<div>\n",
              "<style scoped>\n",
              "    .dataframe tbody tr th:only-of-type {\n",
              "        vertical-align: middle;\n",
              "    }\n",
              "\n",
              "    .dataframe tbody tr th {\n",
              "        vertical-align: top;\n",
              "    }\n",
              "\n",
              "    .dataframe thead th {\n",
              "        text-align: right;\n",
              "    }\n",
              "</style>\n",
              "<table border=\"1\" class=\"dataframe\">\n",
              "  <thead>\n",
              "    <tr style=\"text-align: right;\">\n",
              "      <th></th>\n",
              "      <th>populacao</th>\n",
              "      <th>2020/Jul</th>\n",
              "    </tr>\n",
              "    <tr>\n",
              "      <th>uf</th>\n",
              "      <th></th>\n",
              "      <th></th>\n",
              "    </tr>\n",
              "  </thead>\n",
              "  <tbody>\n",
              "    <tr>\n",
              "      <th>São Paulo</th>\n",
              "      <td>46289333</td>\n",
              "      <td>282,709,570.31</td>\n",
              "    </tr>\n",
              "    <tr>\n",
              "      <th>Minas Gerais</th>\n",
              "      <td>21292666</td>\n",
              "      <td>120,467,187.34</td>\n",
              "    </tr>\n",
              "    <tr>\n",
              "      <th>Rio de Janeiro</th>\n",
              "      <td>17366189</td>\n",
              "      <td>71,540,227.33</td>\n",
              "    </tr>\n",
              "    <tr>\n",
              "      <th>Bahia</th>\n",
              "      <td>14930634</td>\n",
              "      <td>58,898,100.40</td>\n",
              "    </tr>\n",
              "    <tr>\n",
              "      <th>Paraná</th>\n",
              "      <td>11516840</td>\n",
              "      <td>80,320,852.69</td>\n",
              "    </tr>\n",
              "  </tbody>\n",
              "</table>\n",
              "</div>"
            ],
            "text/plain": [
              "                populacao       2020/Jul\n",
              "uf                                      \n",
              "São Paulo        46289333 282,709,570.31\n",
              "Minas Gerais     21292666 120,467,187.34\n",
              "Rio de Janeiro   17366189  71,540,227.33\n",
              "Bahia            14930634  58,898,100.40\n",
              "Paraná           11516840  80,320,852.69"
            ]
          },
          "metadata": {
            "tags": []
          },
          "execution_count": 20
        }
      ]
    },
    {
      "cell_type": "code",
      "metadata": {
        "colab": {
          "base_uri": "https://localhost:8080/",
          "height": 235
        },
        "id": "wH4h0p9QIPwv",
        "outputId": "352eca07-b520-4023-d01c-acf7ce6fda3e"
      },
      "source": [
        "gastos_e_populacao_por_habitantes = gastos_e_populacao.copy()\n",
        "gastos_e_populacao_por_habitantes['2020/Jul'] = gastos_e_populacao_por_habitantes['2020/Jul'] / gastos_e_populacao_por_habitantes['populacao']\n",
        "gastos_e_populacao_por_habitantes.head()"
      ],
      "execution_count": null,
      "outputs": [
        {
          "output_type": "execute_result",
          "data": {
            "text/html": [
              "<div>\n",
              "<style scoped>\n",
              "    .dataframe tbody tr th:only-of-type {\n",
              "        vertical-align: middle;\n",
              "    }\n",
              "\n",
              "    .dataframe tbody tr th {\n",
              "        vertical-align: top;\n",
              "    }\n",
              "\n",
              "    .dataframe thead th {\n",
              "        text-align: right;\n",
              "    }\n",
              "</style>\n",
              "<table border=\"1\" class=\"dataframe\">\n",
              "  <thead>\n",
              "    <tr style=\"text-align: right;\">\n",
              "      <th></th>\n",
              "      <th>populacao</th>\n",
              "      <th>2020/Jul</th>\n",
              "    </tr>\n",
              "    <tr>\n",
              "      <th>uf</th>\n",
              "      <th></th>\n",
              "      <th></th>\n",
              "    </tr>\n",
              "  </thead>\n",
              "  <tbody>\n",
              "    <tr>\n",
              "      <th>São Paulo</th>\n",
              "      <td>46289333</td>\n",
              "      <td>6.11</td>\n",
              "    </tr>\n",
              "    <tr>\n",
              "      <th>Minas Gerais</th>\n",
              "      <td>21292666</td>\n",
              "      <td>5.66</td>\n",
              "    </tr>\n",
              "    <tr>\n",
              "      <th>Rio de Janeiro</th>\n",
              "      <td>17366189</td>\n",
              "      <td>4.12</td>\n",
              "    </tr>\n",
              "    <tr>\n",
              "      <th>Bahia</th>\n",
              "      <td>14930634</td>\n",
              "      <td>3.94</td>\n",
              "    </tr>\n",
              "    <tr>\n",
              "      <th>Paraná</th>\n",
              "      <td>11516840</td>\n",
              "      <td>6.97</td>\n",
              "    </tr>\n",
              "  </tbody>\n",
              "</table>\n",
              "</div>"
            ],
            "text/plain": [
              "                populacao  2020/Jul\n",
              "uf                                 \n",
              "São Paulo        46289333      6.11\n",
              "Minas Gerais     21292666      5.66\n",
              "Rio de Janeiro   17366189      4.12\n",
              "Bahia            14930634      3.94\n",
              "Paraná           11516840      6.97"
            ]
          },
          "metadata": {
            "tags": []
          },
          "execution_count": 21
        }
      ]
    },
    {
      "cell_type": "markdown",
      "metadata": {
        "id": "vuyzBdUgR026"
      },
      "source": [
        "# 2) Desafios"
      ]
    },
    {
      "cell_type": "markdown",
      "metadata": {
        "id": "iHcgEolzgYXd"
      },
      "source": [
        "---\n",
        "## 2.1) Desafio 01: Ordenar o gráfico e criar uma visualização de gastos por habitantes ordenada.\n",
        "---\n",
        "\n"
      ]
    },
    {
      "cell_type": "code",
      "metadata": {
        "id": "5e9eYRiggctW",
        "colab": {
          "base_uri": "https://localhost:8080/",
          "height": 513
        },
        "outputId": "b354b6c1-f92e-42f2-add7-7eb8feee1175"
      },
      "source": [
        "gastos_e_populacao_por_habitantes['2020/Jul'].sort_values(ascending=False).plot(kind='bar', \n",
        "                                                   figsize=(10,6),\n",
        "                                                   ylabel = \"Gastos por Habitantes\",\n",
        "                                                   title = \"Gastos por habitantes para a data de Jul/2020\")\n",
        "\n",
        "plt.grid(axis='x')"
      ],
      "execution_count": null,
      "outputs": [
        {
          "output_type": "display_data",
          "data": {
            "image/png": "[encoded data removed]",
            "text/plain": [
              "<Figure size 720x432 with 1 Axes>"
            ]
          },
          "metadata": {
            "tags": []
          }
        }
      ]
    },
    {
      "cell_type": "markdown",
      "metadata": {
        "id": "8htaqcrfgfy7"
      },
      "source": [
        "---\n",
        "## 2.2) Desafio 02 (Super Desafio Gui): Fazer os mesmos gráficos do final da aulas 2.1 para meses anteriores, analisar e compartilhar suas hipóteses.\n",
        "---"
      ]
    },
    {
      "cell_type": "code",
      "metadata": {
        "id": "UA3J_6eAgkW_",
        "colab": {
          "base_uri": "https://localhost:8080/",
          "height": 235
        },
        "outputId": "96f3b937-83bd-444f-dfcd-5fe6592ecb66"
      },
      "source": [
        "gastos_e_populacao_todos_os_meses = populacao_tratada.join(gastos_ordenado_por_total)\n",
        "gastos_e_populacao_todos_os_meses.head().iloc[:, [0,1,2,-2,-1]]"
      ],
      "execution_count": null,
      "outputs": [
        {
          "output_type": "execute_result",
          "data": {
            "text/html": [
              "<div>\n",
              "<style scoped>\n",
              "    .dataframe tbody tr th:only-of-type {\n",
              "        vertical-align: middle;\n",
              "    }\n",
              "\n",
              "    .dataframe tbody tr th {\n",
              "        vertical-align: top;\n",
              "    }\n",
              "\n",
              "    .dataframe thead th {\n",
              "        text-align: right;\n",
              "    }\n",
              "</style>\n",
              "<table border=\"1\" class=\"dataframe\">\n",
              "  <thead>\n",
              "    <tr style=\"text-align: right;\">\n",
              "      <th></th>\n",
              "      <th>populacao</th>\n",
              "      <th>2007/Ago</th>\n",
              "      <th>2007/Set</th>\n",
              "      <th>2020/Jun</th>\n",
              "      <th>2020/Jul</th>\n",
              "    </tr>\n",
              "    <tr>\n",
              "      <th>uf</th>\n",
              "      <th></th>\n",
              "      <th></th>\n",
              "      <th></th>\n",
              "      <th></th>\n",
              "      <th></th>\n",
              "    </tr>\n",
              "  </thead>\n",
              "  <tbody>\n",
              "    <tr>\n",
              "      <th>São Paulo</th>\n",
              "      <td>46289333</td>\n",
              "      <td>1,665,349.90</td>\n",
              "      <td>4,434,168.64</td>\n",
              "      <td>299,060,851.62</td>\n",
              "      <td>282,709,570.31</td>\n",
              "    </tr>\n",
              "    <tr>\n",
              "      <th>Minas Gerais</th>\n",
              "      <td>21292666</td>\n",
              "      <td>971,394.37</td>\n",
              "      <td>2,861,781.50</td>\n",
              "      <td>135,977,571.87</td>\n",
              "      <td>120,467,187.34</td>\n",
              "    </tr>\n",
              "    <tr>\n",
              "      <th>Rio de Janeiro</th>\n",
              "      <td>17366189</td>\n",
              "      <td>469,469.34</td>\n",
              "      <td>921,646.57</td>\n",
              "      <td>77,604,925.21</td>\n",
              "      <td>71,540,227.33</td>\n",
              "    </tr>\n",
              "    <tr>\n",
              "      <th>Bahia</th>\n",
              "      <td>14930634</td>\n",
              "      <td>135,146.36</td>\n",
              "      <td>448,349.75</td>\n",
              "      <td>65,159,300.63</td>\n",
              "      <td>58,898,100.40</td>\n",
              "    </tr>\n",
              "    <tr>\n",
              "      <th>Paraná</th>\n",
              "      <td>11516840</td>\n",
              "      <td>554,800.22</td>\n",
              "      <td>1,431,708.01</td>\n",
              "      <td>92,901,461.36</td>\n",
              "      <td>80,320,852.69</td>\n",
              "    </tr>\n",
              "  </tbody>\n",
              "</table>\n",
              "</div>"
            ],
            "text/plain": [
              "                populacao     2007/Ago  ...       2020/Jun       2020/Jul\n",
              "uf                                      ...                              \n",
              "São Paulo        46289333 1,665,349.90  ... 299,060,851.62 282,709,570.31\n",
              "Minas Gerais     21292666   971,394.37  ... 135,977,571.87 120,467,187.34\n",
              "Rio de Janeiro   17366189   469,469.34  ...  77,604,925.21  71,540,227.33\n",
              "Bahia            14930634   135,146.36  ...  65,159,300.63  58,898,100.40\n",
              "Paraná           11516840   554,800.22  ...  92,901,461.36  80,320,852.69\n",
              "\n",
              "[5 rows x 5 columns]"
            ]
          },
          "metadata": {
            "tags": []
          },
          "execution_count": 50
        }
      ]
    },
    {
      "cell_type": "code",
      "metadata": {
        "colab": {
          "base_uri": "https://localhost:8080/",
          "height": 235
        },
        "id": "WTUUEWPbLE_F",
        "outputId": "8e6df686-14fe-422e-b86d-82d96cc84200"
      },
      "source": [
        "gastos_e_populacao_por_habitantes_todos_os_meses = gastos_e_populacao_todos_os_meses.copy()\n",
        "for column in gastos_e_populacao_por_habitantes_todos_os_meses.columns[1:]:\n",
        "  gastos_e_populacao_por_habitantes_todos_os_meses[column] = gastos_e_populacao_por_habitantes_todos_os_meses[column]/gastos_e_populacao_por_habitantes_todos_os_meses['populacao']\n",
        "\n",
        "gastos_e_populacao_por_habitantes_todos_os_meses['populacao'] = gastos_e_populacao_por_habitantes_todos_os_meses['populacao']/ 1000000 \n",
        "gastos_e_populacao_por_habitantes_todos_os_meses.head().iloc[:, [0,1,2,-2,-1]]"
      ],
      "execution_count": null,
      "outputs": [
        {
          "output_type": "execute_result",
          "data": {
            "text/html": [
              "<div>\n",
              "<style scoped>\n",
              "    .dataframe tbody tr th:only-of-type {\n",
              "        vertical-align: middle;\n",
              "    }\n",
              "\n",
              "    .dataframe tbody tr th {\n",
              "        vertical-align: top;\n",
              "    }\n",
              "\n",
              "    .dataframe thead th {\n",
              "        text-align: right;\n",
              "    }\n",
              "</style>\n",
              "<table border=\"1\" class=\"dataframe\">\n",
              "  <thead>\n",
              "    <tr style=\"text-align: right;\">\n",
              "      <th></th>\n",
              "      <th>populacao</th>\n",
              "      <th>2007/Ago</th>\n",
              "      <th>2007/Set</th>\n",
              "      <th>2020/Jun</th>\n",
              "      <th>2020/Jul</th>\n",
              "    </tr>\n",
              "    <tr>\n",
              "      <th>uf</th>\n",
              "      <th></th>\n",
              "      <th></th>\n",
              "      <th></th>\n",
              "      <th></th>\n",
              "      <th></th>\n",
              "    </tr>\n",
              "  </thead>\n",
              "  <tbody>\n",
              "    <tr>\n",
              "      <th>São Paulo</th>\n",
              "      <td>46.29</td>\n",
              "      <td>0.04</td>\n",
              "      <td>0.10</td>\n",
              "      <td>6.46</td>\n",
              "      <td>6.11</td>\n",
              "    </tr>\n",
              "    <tr>\n",
              "      <th>Minas Gerais</th>\n",
              "      <td>21.29</td>\n",
              "      <td>0.05</td>\n",
              "      <td>0.13</td>\n",
              "      <td>6.39</td>\n",
              "      <td>5.66</td>\n",
              "    </tr>\n",
              "    <tr>\n",
              "      <th>Rio de Janeiro</th>\n",
              "      <td>17.37</td>\n",
              "      <td>0.03</td>\n",
              "      <td>0.05</td>\n",
              "      <td>4.47</td>\n",
              "      <td>4.12</td>\n",
              "    </tr>\n",
              "    <tr>\n",
              "      <th>Bahia</th>\n",
              "      <td>14.93</td>\n",
              "      <td>0.01</td>\n",
              "      <td>0.03</td>\n",
              "      <td>4.36</td>\n",
              "      <td>3.94</td>\n",
              "    </tr>\n",
              "    <tr>\n",
              "      <th>Paraná</th>\n",
              "      <td>11.52</td>\n",
              "      <td>0.05</td>\n",
              "      <td>0.12</td>\n",
              "      <td>8.07</td>\n",
              "      <td>6.97</td>\n",
              "    </tr>\n",
              "  </tbody>\n",
              "</table>\n",
              "</div>"
            ],
            "text/plain": [
              "                populacao  2007/Ago  2007/Set  2020/Jun  2020/Jul\n",
              "uf                                                               \n",
              "São Paulo           46.29      0.04      0.10      6.46      6.11\n",
              "Minas Gerais        21.29      0.05      0.13      6.39      5.66\n",
              "Rio de Janeiro      17.37      0.03      0.05      4.47      4.12\n",
              "Bahia               14.93      0.01      0.03      4.36      3.94\n",
              "Paraná              11.52      0.05      0.12      8.07      6.97"
            ]
          },
          "metadata": {
            "tags": []
          },
          "execution_count": 88
        }
      ]
    },
    {
      "cell_type": "code",
      "metadata": {
        "colab": {
          "base_uri": "https://localhost:8080/",
          "height": 437
        },
        "id": "hJqHioUJSOEK",
        "outputId": "161e3bf6-4b23-42d7-d036-c1705df1db6a"
      },
      "source": [
        "sns.set(rc={'figure.figsize':(16,6)})\n",
        "\n",
        "fig, ax = plt.subplots(nrows=1, ncols=3)\n",
        "\n",
        "fig.suptitle(t = f\"Gastos x População dos Estados\")\n",
        "\n",
        "dados = gastos_e_populacao_todos_os_meses.copy()/1000000\n",
        "\n",
        "for i, mes in enumerate(['2020/Mai','2020/Jun', '2020/Jul']):\n",
        "  sns.scatterplot(ax = ax[i],\n",
        "                  data=dados,\n",
        "                  x = \"populacao\", \n",
        "                  y = mes)\n",
        "  \n",
        "  ax[i].set(xlabel= \"População (Milhões)\",         \n",
        "         title = f\"Grafico de dispersão para {mes}\",\n",
        "         xlim=(0,50),\n",
        "         ylim=(0,350))\n",
        "\n",
        "#\n",
        "ax[0].set( ylabel=\"Gastos (Milhôes de Reais)\")\n",
        "ax[1].set( ylabel=None)\n",
        "ax[2].set( ylabel=None)\n",
        " \n",
        "plt.show()"
      ],
      "execution_count": null,
      "outputs": [
        {
          "output_type": "display_data",
          "data": {
            "image/png": "[encoded data removed]",
            "text/plain": [
              "<Figure size 1152x432 with 3 Axes>"
            ]
          },
          "metadata": {
            "tags": []
          }
        }
      ]
    },
    {
      "cell_type": "code",
      "metadata": {
        "colab": {
          "base_uri": "https://localhost:8080/",
          "height": 437
        },
        "id": "EEB5IMPpqD7G",
        "outputId": "86d3ba3d-9c9e-46b0-a5ca-77ecfa78d1f2"
      },
      "source": [
        "sns.set(rc={'figure.figsize':(16,6)})\n",
        "\n",
        "fig, ax = plt.subplots(nrows=1, ncols=3)\n",
        "\n",
        "fig.suptitle(t = f\"Gastos per capita x População dos Estados\")\n",
        "\n",
        "dados = gastos_e_populacao_por_habitantes_todos_os_meses\n",
        "\n",
        "for i, mes in enumerate(['2020/Mai','2020/Jun', '2020/Jul']):\n",
        "  sns.scatterplot(ax = ax[i],\n",
        "                  data=dados,\n",
        "                  x = \"populacao\", \n",
        "                  y = mes)\n",
        "  \n",
        "  ax[i].set(xlabel= \"População (Milhões)\",         \n",
        "         title = f\"Grafico de dispersão para {mes}\",\n",
        "         xlim=(0,50),\n",
        "         ylim=(0,10))\n",
        "\n",
        "#\n",
        "ax[0].set( ylabel= \"Gastos per capita\")\n",
        "ax[1].set( ylabel=None)\n",
        "ax[2].set( ylabel=None)\n",
        " \n",
        "plt.show()"
      ],
      "execution_count": null,
      "outputs": [
        {
          "output_type": "display_data",
          "data": {
            "image/png": "[encoded data removed]",
            "text/plain": [
              "<Figure size 1152x432 with 3 Axes>"
            ]
          },
          "metadata": {
            "tags": []
          }
        }
      ]
    },
    {
      "cell_type": "markdown",
      "metadata": {
        "id": "K-PspbcopiPA"
      },
      "source": [
        "> A comparação dos gráficos desta forma é bastante dificil. Uma melhor abordagem é botar todos eles no mesmo grafico."
      ]
    },
    {
      "cell_type": "markdown",
      "metadata": {
        "id": "bu1owSKzgtZT"
      },
      "source": [
        "---\n",
        "\n",
        "## 2.3) Desafio 03 (Super Desafio Thiago): Plotar no mesmos gráficos do final da aula o mês anterior e o mês corrente, analisar e compartilhar suas hipóteses.\n",
        "\n",
        "---"
      ]
    },
    {
      "cell_type": "code",
      "metadata": {
        "id": "JNmyetwXgxBX",
        "colab": {
          "base_uri": "https://localhost:8080/",
          "height": 518
        },
        "outputId": "5a93be12-9e68-45a9-cc80-984fa82cd8cf"
      },
      "source": [
        "sns.set(rc={'figure.figsize':(12,8)})\n",
        "\n",
        "dados = gastos_e_populacao_todos_os_meses.copy()/1000000\n",
        "\n",
        "for i, mes in enumerate(['2020/Mai','2020/Jun', '2020/Jul']):\n",
        "  ax = sns.scatterplot(data=dados,\n",
        "                       x = \"populacao\",\n",
        "                       y = mes,\n",
        "                       label = mes)\n",
        "\n",
        "ax.set(xlabel= \"População (Milhões)\",         \n",
        "      title = f\"Gastos x População dos Estados\",\n",
        "      ylabel= \"Gastos (Milhôes de Reais)\",\n",
        "      xlim=(0,50),\n",
        "      ylim=(0,400))\n",
        "\n",
        "plt.show()"
      ],
      "execution_count": null,
      "outputs": [
        {
          "output_type": "display_data",
          "data": {
            "image/png": "[encoded data removed]",
            "text/plain": [
              "<Figure size 864x576 with 1 Axes>"
            ]
          },
          "metadata": {
            "tags": []
          }
        }
      ]
    },
    {
      "cell_type": "code",
      "metadata": {
        "colab": {
          "base_uri": "https://localhost:8080/",
          "height": 518
        },
        "id": "_FUQXNl_xkVg",
        "outputId": "ed0a3e9f-3bc9-424c-fef5-7d8c41d11491"
      },
      "source": [
        "sns.set(rc={'figure.figsize':(12,8)})\n",
        "\n",
        "dados = gastos_e_populacao_por_habitantes_todos_os_meses\n",
        "\n",
        "for i, mes in enumerate(['2020/Mai','2020/Jun', '2020/Jul']):\n",
        "  ax = sns.scatterplot(data=dados,\n",
        "                       x = \"populacao\",\n",
        "                       y = mes,\n",
        "                       label = mes)\n",
        "\n",
        "ax.set(xlabel= \"População (Milhões)\",         \n",
        "      title = f\"Gastos per capita x População dos Estados\",\n",
        "      ylabel= \"Gastos per capita (Milhôes de Reais)\",\n",
        "      xlim=(0,50),\n",
        "      ylim=(0,10))\n",
        "\n",
        "plt.show()"
      ],
      "execution_count": null,
      "outputs": [
        {
          "output_type": "display_data",
          "data": {
            "image/png": "[encoded data removed]",
            "text/plain": [
              "<Figure size 864x576 with 1 Axes>"
            ]
          },
          "metadata": {
            "tags": []
          }
        }
      ]
    },
    {
      "cell_type": "markdown",
      "metadata": {
        "id": "H_5Y1_xl5wXf"
      },
      "source": [
        "> Nesse gráficos é possivel que existe uma diferença entre os gastos dos meses."
      ]
    },
    {
      "cell_type": "markdown",
      "metadata": {
        "id": "Tz3VHddMgxfr"
      },
      "source": [
        "---\n",
        "## 2.4) Desafio 04 (Próximo Vídeo): Analise os gráficos e tente chegar a hipóteses que explicam o que você está entendendo dos dados. Lembre-se que a conclusão é uma hipótese. E que esses dados serão alterados.\n",
        "---"
      ]
    },
    {
      "cell_type": "code",
      "metadata": {
        "id": "d1O22wo4SMFS"
      },
      "source": [
        ""
      ],
      "execution_count": null,
      "outputs": []
    }
  ]
}